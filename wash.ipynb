{
 "cells": [
  {
   "cell_type": "code",
   "execution_count": 12,
   "metadata": {},
   "outputs": [],
   "source": [
    "import os\n",
    "folder_path = \"./photo\""
   ]
  },
  {
   "cell_type": "code",
   "execution_count": 20,
   "metadata": {},
   "outputs": [
    {
     "name": "stdout",
     "output_type": "stream",
     "text": [
      "./photo/photo_1245.jpg\n",
      "./photo/photo_1251.jpg\n",
      "./photo/photo_1250.jpg\n",
      "./photo/photo_1244.jpg\n",
      "./photo/photo_1252.jpg\n",
      "./photo/photo_1246.jpg\n",
      "./photo/photo_1247.jpg\n",
      "./photo/photo_1253.jpg\n",
      "./photo/photo_1243.jpg\n",
      "./photo/photo_1242.jpg\n",
      "./photo/photo_1254.jpg\n",
      "./photo/photo_1249.jpg\n",
      "./photo/photo_1248.jpg\n"
     ]
    }
   ],
   "source": [
    "index = 1\n",
    "for root, dirs, files in os.walk(folder_path, topdown=True):\n",
    "    for name in files:\n",
    "        index += 1\n",
    "        # 拼接文件的完整路径\n",
    "        file_path = os.path.join(root, name)\n",
    "        print(file_path)\n",
    "        # 重命名文件\n",
    "        os.rename(file_path, os.path.join(root, \"photo_\" + str(index) + \".jpg\"))\n"
   ]
  },
  {
   "cell_type": "code",
   "execution_count": null,
   "metadata": {},
   "outputs": [],
   "source": []
  }
 ],
 "metadata": {
  "kernelspec": {
   "display_name": "Python 3",
   "language": "python",
   "name": "python3"
  },
  "language_info": {
   "codemirror_mode": {
    "name": "ipython",
    "version": 3
   },
   "file_extension": ".py",
   "mimetype": "text/x-python",
   "name": "python",
   "nbconvert_exporter": "python",
   "pygments_lexer": "ipython3",
   "version": "3.10.8"
  },
  "orig_nbformat": 4
 },
 "nbformat": 4,
 "nbformat_minor": 2
}
