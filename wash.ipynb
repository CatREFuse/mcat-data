{
 "cells": [
  {
   "cell_type": "code",
   "execution_count": 2,
   "metadata": {},
   "outputs": [],
   "source": [
    "import os\n",
    "folder_path = \"./photo\""
   ]
  },
  {
   "cell_type": "code",
   "execution_count": 3,
   "metadata": {},
   "outputs": [],
   "source": [
    "import os\n",
    "import datetime\n",
    "import random\n",
    "\n",
    "# 获取五天前的时间\n",
    "now = datetime.datetime.now()\n",
    "delta = datetime.timedelta(days=5)\n",
    "past_time = now - delta\n",
    "\n",
    "# 获取文件夹内所有文件的路径\n",
    "file_names = os.listdir(folder_path)\n",
    "file_paths = [os.path.join(folder_path, name) for name in file_names]\n",
    "\n",
    "# 遍历文件路径，修改创建时间为过去五天内的随机时间\n",
    "for path in file_paths:\n",
    "    # 获取当前文件的创建时间\n",
    "    ctime = os.path.getctime(path)\n",
    "    # 生成随机时间，范围在过去五天内\n",
    "    random_time = datetime.datetime.fromtimestamp(\n",
    "        (past_time.timestamp() - ctime) * random.random() + ctime\n",
    "    )\n",
    "    # 修改文件的创建时间和修改时间\n",
    "    os.utime(path, (random_time.timestamp(), random_time.timestamp()))\n"
   ]
  },
  {
   "cell_type": "code",
   "execution_count": null,
   "metadata": {},
   "outputs": [],
   "source": []
  }
 ],
 "metadata": {
  "kernelspec": {
   "display_name": "Python 3",
   "language": "python",
   "name": "python3"
  },
  "language_info": {
   "codemirror_mode": {
    "name": "ipython",
    "version": 3
   },
   "file_extension": ".py",
   "mimetype": "text/x-python",
   "name": "python",
   "nbconvert_exporter": "python",
   "pygments_lexer": "ipython3",
   "version": "3.10.8"
  },
  "orig_nbformat": 4
 },
 "nbformat": 4,
 "nbformat_minor": 2
}
