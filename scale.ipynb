{
 "cells": [
  {
   "cell_type": "code",
   "execution_count": 212,
   "metadata": {},
   "outputs": [],
   "source": [
    "import pandas as pd\n",
    "import numpy as np"
   ]
  },
  {
   "cell_type": "code",
   "execution_count": 213,
   "metadata": {},
   "outputs": [
    {
     "name": "stdout",
     "output_type": "stream",
     "text": [
      "0, 1.请输入实验编号\n",
      "1, 2.请选择实验轮次\n",
      "2, 3.系统感知可用性:我认为我会愿意经常使用本系统\n",
      "3, 3.系统感知可用性:我发现这个系统没必要这么复杂\n",
      "4, 3.系统感知可用性:我认为该系统容易使用\n",
      "5, 3.系统感知可用性:我认为我会需要技术人员的支持才能使用该系统\n",
      "6, 3.系统感知可用性:我发现这个系统中的不同功能被较好地整合一起\n",
      "7, 3.系统感知可用性:我认为这个系统太不一致了\n",
      "8, 3.系统感知可用性:我认为大部分人会很快学会使用这个系统\n",
      "9, 3.系统感知可用性:我发现这个系统使用起来非常笨拙\n",
      "10, 3.系统感知可用性:对于使用这个系统，我感到很自信\n",
      "11, 3.系统感知可用性:在我可以使用该系统之前，我需要学习很多东西\n",
      "12, 4.有效性:它使我的工作更有效\n",
      "13, 4.有效性:它使我的工作更有产出\n",
      "14, 4.有效性:它是有用的\n",
      "15, 4.有效性:它给我更多的控制以管理生活中的各项活动\n",
      "16, 4.有效性:它使我能够更加容易地完成要做的事情\n",
      "17, 4.有效性:使用时，它节省了我的时间\n",
      "18, 4.有效性:它满足我的需求\n",
      "19, 4.有效性:它可以执行我期望它做的所有事情\n",
      "20, 5.易用性:它容易使用\n",
      "21, 5.易用性:它操作简单\n",
      "22, 5.易用性:它是用户友好的\n",
      "23, 5.易用性:对于我需要完成的事情，它需要最可能少的步骤\n",
      "24, 5.易用性:它是灵活的\n",
      "25, 5.易用性:使用起来不费力气\n",
      "26, 5.易用性:没有书面说明，我可以使用它\n",
      "27, 5.易用性:在使用过程中，我没有发现任何不一致\n",
      "28, 5.易用性:偶尔使用和常规使用的用户都会喜欢它\n",
      "29, 5.易用性:出错时，我可以迅速且容易地恢复过来\n",
      "30, 5.易用性:每次我都可以成功地使用它\n",
      "31, 6.易学性:我可以迅速地学会使用它\n",
      "32, 6.易学性:我容易记住如何使用它\n",
      "33, 6.易学性:学起来容易\n",
      "34, 6.易学性:很快我就可以熟练使用它了\n",
      "35, 7.满意度:我对它满意\n",
      "36, 7.满意度:我会把它推荐给朋友\n",
      "37, 7.满意度:使用起来有趣\n",
      "38, 7.满意度:它以我所希望的方式工作\n",
      "39, 7.满意度:它很好\n",
      "40, 7.满意度:我感到我需要拥有它\n",
      "41, 7.满意度:使用起来令人愉快\n",
      "42, 8.场景比较:系统的整体可用性\n",
      "43, 8.场景比较:系统对于任务的有效性\n",
      "44, 8.场景比较:系统容易使用\n",
      "45, 8.场景比较:系统的使用方法容易学习\n",
      "46, 8.场景比较:对系统满意\n",
      "47, Unnamed: 58\n"
     ]
    }
   ],
   "source": [
    "data = pd.read_csv('scale.csv')\n",
    "data = data.drop(data.columns[0:11], axis=1)\n",
    "for key,item in enumerate(data.columns):\n",
    "    print(f\"{key}, {item}\")\n",
    "c = data.columns\n",
    "data_head = data.loc[:, c[0]:c[1]]"
   ]
  },
  {
   "cell_type": "code",
   "execution_count": 214,
   "metadata": {},
   "outputs": [
    {
     "name": "stdout",
     "output_type": "stream",
     "text": [
      "0, 3.系统感知可用性:我认为我会愿意经常使用本系统\n",
      "1, 3.系统感知可用性:我发现这个系统没必要这么复杂\n",
      "2, 3.系统感知可用性:我认为该系统容易使用\n",
      "3, 3.系统感知可用性:我认为我会需要技术人员的支持才能使用该系统\n",
      "4, 3.系统感知可用性:我发现这个系统中的不同功能被较好地整合一起\n",
      "5, 3.系统感知可用性:我认为这个系统太不一致了\n",
      "6, 3.系统感知可用性:我认为大部分人会很快学会使用这个系统\n",
      "7, 3.系统感知可用性:我发现这个系统使用起来非常笨拙\n",
      "8, 3.系统感知可用性:对于使用这个系统，我感到很自信\n",
      "9, 3.系统感知可用性:在我可以使用该系统之前，我需要学习很多东西\n"
     ]
    }
   ],
   "source": [
    "sus_data = data.loc[:, c[2]:c[11]]\n",
    "for key,item in enumerate(sus_data.columns):\n",
    "    print(f\"{key}, {item}\")\n",
    "\n",
    "sus_data_c = sus_data.columns"
   ]
  },
  {
   "attachments": {},
   "cell_type": "markdown",
   "metadata": {},
   "source": [
    "## SUS 评分"
   ]
  },
  {
   "cell_type": "code",
   "execution_count": 236,
   "metadata": {},
   "outputs": [],
   "source": [
    "# sus_scale = sus_data[sus_data_c[2]] + sus_data[sus_data_c[3]]\n",
    "\n",
    "sus_scale = 0\n",
    "\n",
    "for i in range(0, 9):\n",
    "    if i % 2 == 0:\n",
    "        sus_scale += sus_data[sus_data_c[i]] - 1\n",
    "    else:\n",
    "        sus_scale += 5 - sus_data[sus_data_c[i]]\n",
    "    \n",
    "\n",
    "data_head = data_head.assign(sus=sus_scale*2.5)\n"
   ]
  },
  {
   "attachments": {},
   "cell_type": "markdown",
   "metadata": {},
   "source": [
    "## USE 有效性评分"
   ]
  },
  {
   "cell_type": "code",
   "execution_count": 237,
   "metadata": {},
   "outputs": [],
   "source": [
    "effect_data = data.loc[:, c[12]:c[19]]\n",
    "effect_data[c[18]] = effect_data[c[18]].apply(lambda x: x*0.8)\n",
    "\n",
    "data_head = data_head.assign(effect=effect_data.sum(axis=1))\n"
   ]
  },
  {
   "attachments": {},
   "cell_type": "markdown",
   "metadata": {},
   "source": [
    "## USE 易用性名评分"
   ]
  },
  {
   "cell_type": "code",
   "execution_count": 217,
   "metadata": {},
   "outputs": [],
   "source": [
    "easy_use_data_r = data.loc[:, c[20]:c[23]]\n",
    "easy_use_data_s = data.loc[:, c[24]:c[30]]\n",
    "data_head = data_head.assign(easy=easy_use_data_r.sum(axis=1) + easy_use_data_s.sum(axis=1) * 0.8)"
   ]
  },
  {
   "attachments": {},
   "cell_type": "markdown",
   "metadata": {},
   "source": [
    "### USE 易学性评分"
   ]
  },
  {
   "cell_type": "code",
   "execution_count": 218,
   "metadata": {},
   "outputs": [],
   "source": [
    "easy_learn_data_n = data.loc[:, c[31]:c[33]]\n",
    "easy_learn_data_s = data.loc[:, c[34]:c[34]]\n",
    "data_head = data_head.assign(easy_learn=easy_learn_data_n.sum(axis=1) + 0.8 * easy_learn_data_s.sum(axis=1))"
   ]
  },
  {
   "attachments": {},
   "cell_type": "markdown",
   "metadata": {},
   "source": [
    "### USE 满意度评分"
   ]
  },
  {
   "cell_type": "code",
   "execution_count": 219,
   "metadata": {},
   "outputs": [],
   "source": [
    "satisfaction_data = data.loc[:, c[35]:c[41]]\n",
    "data_head = data_head.assign(satisfaction=satisfaction_data.sum(axis=1))"
   ]
  },
  {
   "cell_type": "code",
   "execution_count": 220,
   "metadata": {},
   "outputs": [],
   "source": [
    "res = data_head\n"
   ]
  },
  {
   "cell_type": "code",
   "execution_count": 221,
   "metadata": {},
   "outputs": [],
   "source": [
    "res.rename(columns={\"1.请输入实验编号\": \"subject_id\", \"2.请选择实验轮次\":\"task_round\"}, inplace=True)\n"
   ]
  },
  {
   "cell_type": "code",
   "execution_count": 222,
   "metadata": {},
   "outputs": [],
   "source": [
    "res[\"task_round\"].replace({\"A.第一轮（WIMP）\": 0, \"B.第二轮（M-CAT）\":1}, inplace=True)\n"
   ]
  },
  {
   "cell_type": "code",
   "execution_count": 223,
   "metadata": {},
   "outputs": [
    {
     "data": {
      "text/html": [
       "<div>\n",
       "<style scoped>\n",
       "    .dataframe tbody tr th:only-of-type {\n",
       "        vertical-align: middle;\n",
       "    }\n",
       "\n",
       "    .dataframe tbody tr th {\n",
       "        vertical-align: top;\n",
       "    }\n",
       "\n",
       "    .dataframe thead th {\n",
       "        text-align: right;\n",
       "    }\n",
       "</style>\n",
       "<table border=\"1\" class=\"dataframe\">\n",
       "  <thead>\n",
       "    <tr style=\"text-align: right;\">\n",
       "      <th></th>\n",
       "      <th>sus</th>\n",
       "      <th>effect</th>\n",
       "      <th>easy</th>\n",
       "      <th>easy_learn</th>\n",
       "      <th>satisfaction</th>\n",
       "    </tr>\n",
       "    <tr>\n",
       "      <th>task_round</th>\n",
       "      <th></th>\n",
       "      <th></th>\n",
       "      <th></th>\n",
       "      <th></th>\n",
       "      <th></th>\n",
       "    </tr>\n",
       "  </thead>\n",
       "  <tbody>\n",
       "    <tr>\n",
       "      <th>0</th>\n",
       "      <td>49.666667</td>\n",
       "      <td>35.186667</td>\n",
       "      <td>39.626667</td>\n",
       "      <td>16.12</td>\n",
       "      <td>29.133333</td>\n",
       "    </tr>\n",
       "    <tr>\n",
       "      <th>1</th>\n",
       "      <td>76.500000</td>\n",
       "      <td>49.480000</td>\n",
       "      <td>61.666667</td>\n",
       "      <td>25.52</td>\n",
       "      <td>46.600000</td>\n",
       "    </tr>\n",
       "  </tbody>\n",
       "</table>\n",
       "</div>"
      ],
      "text/plain": [
       "                  sus     effect       easy  easy_learn  satisfaction\n",
       "task_round                                                           \n",
       "0           49.666667  35.186667  39.626667       16.12     29.133333\n",
       "1           76.500000  49.480000  61.666667       25.52     46.600000"
      ]
     },
     "execution_count": 223,
     "metadata": {},
     "output_type": "execute_result"
    }
   ],
   "source": [
    "grouped_res = res.groupby([\"subject_id\",\"task_round\"]).mean().groupby(\"task_round\")\n",
    "grouped_res.mean()"
   ]
  },
  {
   "cell_type": "code",
   "execution_count": 224,
   "metadata": {},
   "outputs": [
    {
     "data": {
      "text/html": [
       "<div>\n",
       "<style scoped>\n",
       "    .dataframe tbody tr th:only-of-type {\n",
       "        vertical-align: middle;\n",
       "    }\n",
       "\n",
       "    .dataframe tbody tr th {\n",
       "        vertical-align: top;\n",
       "    }\n",
       "\n",
       "    .dataframe thead th {\n",
       "        text-align: right;\n",
       "    }\n",
       "</style>\n",
       "<table border=\"1\" class=\"dataframe\">\n",
       "  <thead>\n",
       "    <tr style=\"text-align: right;\">\n",
       "      <th></th>\n",
       "      <th>sus</th>\n",
       "      <th>effect</th>\n",
       "      <th>easy</th>\n",
       "      <th>easy_learn</th>\n",
       "      <th>satisfaction</th>\n",
       "    </tr>\n",
       "    <tr>\n",
       "      <th>task_round</th>\n",
       "      <th></th>\n",
       "      <th></th>\n",
       "      <th></th>\n",
       "      <th></th>\n",
       "      <th></th>\n",
       "    </tr>\n",
       "  </thead>\n",
       "  <tbody>\n",
       "    <tr>\n",
       "      <th>0</th>\n",
       "      <td>17.004901</td>\n",
       "      <td>8.240481</td>\n",
       "      <td>10.797848</td>\n",
       "      <td>4.580580</td>\n",
       "      <td>8.365462</td>\n",
       "    </tr>\n",
       "    <tr>\n",
       "      <th>1</th>\n",
       "      <td>9.439658</td>\n",
       "      <td>4.313964</td>\n",
       "      <td>5.389231</td>\n",
       "      <td>1.686586</td>\n",
       "      <td>2.898275</td>\n",
       "    </tr>\n",
       "  </tbody>\n",
       "</table>\n",
       "</div>"
      ],
      "text/plain": [
       "                  sus    effect       easy  easy_learn  satisfaction\n",
       "task_round                                                          \n",
       "0           17.004901  8.240481  10.797848    4.580580      8.365462\n",
       "1            9.439658  4.313964   5.389231    1.686586      2.898275"
      ]
     },
     "execution_count": 224,
     "metadata": {},
     "output_type": "execute_result"
    }
   ],
   "source": [
    "grouped_res.std()"
   ]
  },
  {
   "cell_type": "code",
   "execution_count": 225,
   "metadata": {},
   "outputs": [],
   "source": [
    "import matplotlib.pyplot as plt\n",
    "import scienceplots\n",
    "plt.style.use([\"light\",\"no-latex\"])\n",
    "plt.rcParams ['font.sans-serif'] = ['Arial Unicode MS']  # 汉字显示\n",
    "\n",
    "plt.rcParams.update({\n",
    "    \"font.family\": \"sans-serif\",   # specify font family here\n",
    "    \"font.size\":16})          # specify font size here\n"
   ]
  },
  {
   "attachments": {},
   "cell_type": "markdown",
   "metadata": {},
   "source": [
    "## 分组样本数据"
   ]
  },
  {
   "cell_type": "code",
   "execution_count": 226,
   "metadata": {},
   "outputs": [],
   "source": [
    "from scipy import stats\n",
    "round_0 = res[res[\"task_round\"] == 0].drop([\"subject_id\", \"task_round\"], axis=1)\n",
    "round_1 = res[res[\"task_round\"] == 1].drop([\"subject_id\", \"task_round\"], axis=1)\n",
    "round_0_mean = round_0.mean()\n",
    "round_0_std = round_0.std()\n",
    "round_0_std_error = round_0_std / np.sqrt(len(round_0))\n",
    "round_0_99 = stats.t.interval(0.99, len(round_0)-1, loc=round_0_mean, scale=round_0_std_error)\n",
    "round_0_99_diff = (round_0_99[1] - round_0_99[0])/2\n",
    "round_1_mean = round_1.mean()\n",
    "round_1_std = round_1.std()\n",
    "round_1_std_error = round_1_std / np.sqrt(len(round_1))\n",
    "round_1_99 = stats.t.interval(0.99, len(round_1)-1, loc=round_1_mean, scale=round_1_std_error)\n",
    "round_1_99_diff = (round_1_99[1] - round_1_99[0])/2"
   ]
  },
  {
   "cell_type": "code",
   "execution_count": 227,
   "metadata": {},
   "outputs": [
    {
     "data": {
      "image/png": "[encoded data removed]",
      "text/plain": [
       "<Figure size 720x432 with 1 Axes>"
      ]
     },
     "metadata": {},
     "output_type": "display_data"
    }
   ],
   "source": [
    "import numpy as np\n",
    "fig, ax = plt.subplots(figsize=(10, 6))\n",
    "x = np.arange(len(round_0_mean.index))\n",
    "width = 0.35\n",
    "ax.bar(x - width/2,round_0_mean, width, yerr=round_0_99_diff, label=\"WIMP 界面\",error_kw=dict(ecolor='black', lw=1, capsize=5, capthick=1))\n",
    "ax.bar(x + width/2, round_1_mean, width, yerr=round_1_99_diff, label=\"M-CAT 界面\",error_kw=dict(ecolor='black', lw=1, capsize=5, capthick=1))\n",
    "\n",
    "ax.set_ylabel(\"分数\")\n",
    "ax.set_xticks(x)\n",
    "ax.set_xticklabels(round_0_mean.index)\n",
    "ax.set_title(\"WIMP和M-CAT的主观体验报告对比\")\n",
    "ax.spines['top'].set_visible(False)\n",
    "ax.spines['right'].set_visible(False)\n",
    "ax.set_facecolor((1,1,1, 0))\n",
    "ax.grid(axis='y', color='gray', linestyle='--', linewidth=0.5)\n",
    "ax.legend()\n",
    "fig.set_facecolor(\"white\")\n",
    "plt.show()"
   ]
  },
  {
   "attachments": {},
   "cell_type": "markdown",
   "metadata": {},
   "source": []
  },
  {
   "cell_type": "code",
   "execution_count": 228,
   "metadata": {},
   "outputs": [],
   "source": [
    "from scipy import stats"
   ]
  },
  {
   "cell_type": "code",
   "execution_count": 229,
   "metadata": {},
   "outputs": [],
   "source": [
    "def anova(col: str):\n",
    "    return stats.f_oneway(res.loc[res['task_round'] == 0, col], res.loc[res['task_round'] == 1, col])"
   ]
  },
  {
   "cell_type": "code",
   "execution_count": 230,
   "metadata": {},
   "outputs": [
    {
     "data": {
      "text/plain": [
       "F_onewayResult(statistic=28.551848937844223, pvalue=1.0854182894821663e-05)"
      ]
     },
     "execution_count": 230,
     "metadata": {},
     "output_type": "execute_result"
    }
   ],
   "source": [
    "anova(\"sus\")\n",
    "anova(\"effect\")"
   ]
  },
  {
   "cell_type": "code",
   "execution_count": 241,
   "metadata": {},
   "outputs": [],
   "source": [
    "res = round(res, 3)\n",
    "res.to_csv(\"./scale_origin.csv\", index=False)"
   ]
  },
  {
   "cell_type": "code",
   "execution_count": 232,
   "metadata": {},
   "outputs": [],
   "source": [
    "import pandas as pd\n",
    "import numpy as np\n",
    "from scipy import stats\n",
    "\n",
    "def summary(df):\n",
    "    summary_df = pd.DataFrame(columns=['column_name', 'sample_size', 'mean', 'std', 'std_error', 'ci_lower', 'ci_upper', 'min', 'max'])\n",
    "    dfs = []\n",
    "    \n",
    "    for column in df.columns:\n",
    "        data = df[column]\n",
    "        n = len(data)\n",
    "        mean = np.mean(data)\n",
    "        std = np.std(data)\n",
    "        std_error = std / np.sqrt(n)\n",
    "        ci = stats.t.interval(0.99, n-1, loc=mean, scale=std_error)\n",
    "        ci_lower = ci[0]\n",
    "        ci_upper = ci[1]\n",
    "\n",
    "        minimum = np.min(data)\n",
    "        maximum = np.max(data)\n",
    "        \n",
    "        dfs.append(pd.DataFrame({'column_name': column, 'sample_size': n, 'mean': mean, \n",
    "                                 'std': std, 'std_error': std_error, 'ci_lower': ci_lower, \n",
    "                                 'ci_upper': ci_upper, 'min': minimum, 'max': maximum}, index=[0]))\n",
    "    \n",
    "    summary_df = pd.concat(dfs, ignore_index=True)\n",
    "    \n",
    "    return summary_df"
   ]
  },
  {
   "cell_type": "code",
   "execution_count": 233,
   "metadata": {},
   "outputs": [],
   "source": [
    "describe_0 = summary(res.loc[res[\"task_round\"] == 0].drop([\"subject_id\", \"task_round\"], axis=1))\n",
    "describe_1 =  summary(res.loc[res[\"task_round\"] == 1].drop([\"subject_id\", \"task_round\"], axis=1))\n",
    "describe_all = pd.concat([describe_0.assign(task_round=0), describe_1.assign(task_round=1)], ignore_index=True)\n",
    "describe_all = describe_all.reindex(columns=['task_round', 'column_name', 'sample_size', 'mean', 'std', 'std_error', 'ci_lower', 'ci_upper', 'min', 'max'])"
   ]
  },
  {
   "cell_type": "code",
   "execution_count": 234,
   "metadata": {},
   "outputs": [
    {
     "data": {
      "text/html": [
       "<div>\n",
       "<style scoped>\n",
       "    .dataframe tbody tr th:only-of-type {\n",
       "        vertical-align: middle;\n",
       "    }\n",
       "\n",
       "    .dataframe tbody tr th {\n",
       "        vertical-align: top;\n",
       "    }\n",
       "\n",
       "    .dataframe thead th {\n",
       "        text-align: right;\n",
       "    }\n",
       "</style>\n",
       "<table border=\"1\" class=\"dataframe\">\n",
       "  <thead>\n",
       "    <tr style=\"text-align: right;\">\n",
       "      <th></th>\n",
       "      <th>task_round</th>\n",
       "      <th>column_name</th>\n",
       "      <th>sample_size</th>\n",
       "      <th>mean</th>\n",
       "      <th>std</th>\n",
       "      <th>std_error</th>\n",
       "      <th>ci_lower</th>\n",
       "      <th>ci_upper</th>\n",
       "      <th>min</th>\n",
       "      <th>max</th>\n",
       "    </tr>\n",
       "  </thead>\n",
       "  <tbody>\n",
       "    <tr>\n",
       "      <th>0</th>\n",
       "      <td>0</td>\n",
       "      <td>sus</td>\n",
       "      <td>15</td>\n",
       "      <td>49.666667</td>\n",
       "      <td>16.428295</td>\n",
       "      <td>4.241768</td>\n",
       "      <td>37.039592</td>\n",
       "      <td>62.293742</td>\n",
       "      <td>20.0</td>\n",
       "      <td>87.5</td>\n",
       "    </tr>\n",
       "    <tr>\n",
       "      <th>1</th>\n",
       "      <td>0</td>\n",
       "      <td>effect</td>\n",
       "      <td>15</td>\n",
       "      <td>35.186667</td>\n",
       "      <td>7.961061</td>\n",
       "      <td>2.055537</td>\n",
       "      <td>29.067656</td>\n",
       "      <td>41.305677</td>\n",
       "      <td>20.6</td>\n",
       "      <td>47.8</td>\n",
       "    </tr>\n",
       "    <tr>\n",
       "      <th>2</th>\n",
       "      <td>0</td>\n",
       "      <td>easy</td>\n",
       "      <td>15</td>\n",
       "      <td>39.626667</td>\n",
       "      <td>10.431712</td>\n",
       "      <td>2.693457</td>\n",
       "      <td>31.608670</td>\n",
       "      <td>47.644663</td>\n",
       "      <td>22.0</td>\n",
       "      <td>60.2</td>\n",
       "    </tr>\n",
       "    <tr>\n",
       "      <th>3</th>\n",
       "      <td>0</td>\n",
       "      <td>easy_learn</td>\n",
       "      <td>15</td>\n",
       "      <td>16.120000</td>\n",
       "      <td>4.425261</td>\n",
       "      <td>1.142597</td>\n",
       "      <td>12.718667</td>\n",
       "      <td>19.521333</td>\n",
       "      <td>8.6</td>\n",
       "      <td>23.6</td>\n",
       "    </tr>\n",
       "    <tr>\n",
       "      <th>4</th>\n",
       "      <td>0</td>\n",
       "      <td>satisfaction</td>\n",
       "      <td>15</td>\n",
       "      <td>29.133333</td>\n",
       "      <td>8.081804</td>\n",
       "      <td>2.086713</td>\n",
       "      <td>22.921517</td>\n",
       "      <td>35.345149</td>\n",
       "      <td>18.0</td>\n",
       "      <td>42.0</td>\n",
       "    </tr>\n",
       "    <tr>\n",
       "      <th>5</th>\n",
       "      <td>1</td>\n",
       "      <td>sus</td>\n",
       "      <td>15</td>\n",
       "      <td>76.500000</td>\n",
       "      <td>9.119576</td>\n",
       "      <td>2.354664</td>\n",
       "      <td>69.490534</td>\n",
       "      <td>83.509466</td>\n",
       "      <td>60.0</td>\n",
       "      <td>90.0</td>\n",
       "    </tr>\n",
       "    <tr>\n",
       "      <th>6</th>\n",
       "      <td>1</td>\n",
       "      <td>effect</td>\n",
       "      <td>15</td>\n",
       "      <td>49.480000</td>\n",
       "      <td>4.167685</td>\n",
       "      <td>1.076092</td>\n",
       "      <td>46.276644</td>\n",
       "      <td>52.683356</td>\n",
       "      <td>43.8</td>\n",
       "      <td>54.6</td>\n",
       "    </tr>\n",
       "    <tr>\n",
       "      <th>7</th>\n",
       "      <td>1</td>\n",
       "      <td>easy</td>\n",
       "      <td>15</td>\n",
       "      <td>61.666667</td>\n",
       "      <td>5.206492</td>\n",
       "      <td>1.344310</td>\n",
       "      <td>57.664866</td>\n",
       "      <td>65.668467</td>\n",
       "      <td>51.0</td>\n",
       "      <td>67.2</td>\n",
       "    </tr>\n",
       "    <tr>\n",
       "      <th>8</th>\n",
       "      <td>1</td>\n",
       "      <td>easy_learn</td>\n",
       "      <td>15</td>\n",
       "      <td>25.520000</td>\n",
       "      <td>1.629397</td>\n",
       "      <td>0.420708</td>\n",
       "      <td>24.267617</td>\n",
       "      <td>26.772383</td>\n",
       "      <td>21.0</td>\n",
       "      <td>26.6</td>\n",
       "    </tr>\n",
       "    <tr>\n",
       "      <th>9</th>\n",
       "      <td>1</td>\n",
       "      <td>satisfaction</td>\n",
       "      <td>15</td>\n",
       "      <td>46.600000</td>\n",
       "      <td>2.800000</td>\n",
       "      <td>0.722957</td>\n",
       "      <td>44.447871</td>\n",
       "      <td>48.752129</td>\n",
       "      <td>40.0</td>\n",
       "      <td>49.0</td>\n",
       "    </tr>\n",
       "  </tbody>\n",
       "</table>\n",
       "</div>"
      ],
      "text/plain": [
       "   task_round   column_name  sample_size       mean        std  std_error  \\\n",
       "0           0           sus           15  49.666667  16.428295   4.241768   \n",
       "1           0        effect           15  35.186667   7.961061   2.055537   \n",
       "2           0          easy           15  39.626667  10.431712   2.693457   \n",
       "3           0    easy_learn           15  16.120000   4.425261   1.142597   \n",
       "4           0  satisfaction           15  29.133333   8.081804   2.086713   \n",
       "5           1           sus           15  76.500000   9.119576   2.354664   \n",
       "6           1        effect           15  49.480000   4.167685   1.076092   \n",
       "7           1          easy           15  61.666667   5.206492   1.344310   \n",
       "8           1    easy_learn           15  25.520000   1.629397   0.420708   \n",
       "9           1  satisfaction           15  46.600000   2.800000   0.722957   \n",
       "\n",
       "    ci_lower   ci_upper   min   max  \n",
       "0  37.039592  62.293742  20.0  87.5  \n",
       "1  29.067656  41.305677  20.6  47.8  \n",
       "2  31.608670  47.644663  22.0  60.2  \n",
       "3  12.718667  19.521333   8.6  23.6  \n",
       "4  22.921517  35.345149  18.0  42.0  \n",
       "5  69.490534  83.509466  60.0  90.0  \n",
       "6  46.276644  52.683356  43.8  54.6  \n",
       "7  57.664866  65.668467  51.0  67.2  \n",
       "8  24.267617  26.772383  21.0  26.6  \n",
       "9  44.447871  48.752129  40.0  49.0  "
      ]
     },
     "execution_count": 234,
     "metadata": {},
     "output_type": "execute_result"
    }
   ],
   "source": [
    "describe_all"
   ]
  },
  {
   "cell_type": "code",
   "execution_count": 235,
   "metadata": {},
   "outputs": [],
   "source": [
    "describe_all.to_csv(\"describe_all_scale.csv\", index=False)"
   ]
  },
  {
   "cell_type": "code",
   "execution_count": null,
   "metadata": {},
   "outputs": [],
   "source": []
  }
 ],
 "metadata": {
  "kernelspec": {
   "display_name": "ml",
   "language": "python",
   "name": "python3"
  },
  "language_info": {
   "codemirror_mode": {
    "name": "ipython",
    "version": 3
   },
   "file_extension": ".py",
   "mimetype": "text/x-python",
   "name": "python",
   "nbconvert_exporter": "python",
   "pygments_lexer": "ipython3",
   "version": "3.9.13"
  },
  "orig_nbformat": 4
 },
 "nbformat": 4,
 "nbformat_minor": 2
}
