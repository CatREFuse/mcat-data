{
 "cells": [
  {
   "cell_type": "code",
   "execution_count": 17,
   "metadata": {},
   "outputs": [],
   "source": [
    "import pandas as pd\n",
    "import numpy as np\n",
    "from scipy import stats"
   ]
  },
  {
   "attachments": {},
   "cell_type": "markdown",
   "metadata": {},
   "source": [
    "# 交互数据"
   ]
  },
  {
   "attachments": {},
   "cell_type": "markdown",
   "metadata": {},
   "source": [
    "## 交互数据单方差分析"
   ]
  },
  {
   "cell_type": "code",
   "execution_count": 18,
   "metadata": {},
   "outputs": [
    {
     "data": {
      "text/html": [
       "<div>\n",
       "<style scoped>\n",
       "    .dataframe tbody tr th:only-of-type {\n",
       "        vertical-align: middle;\n",
       "    }\n",
       "\n",
       "    .dataframe tbody tr th {\n",
       "        vertical-align: top;\n",
       "    }\n",
       "\n",
       "    .dataframe thead th {\n",
       "        text-align: right;\n",
       "    }\n",
       "</style>\n",
       "<table border=\"1\" class=\"dataframe\">\n",
       "  <thead>\n",
       "    <tr style=\"text-align: right;\">\n",
       "      <th></th>\n",
       "      <th>subject_id</th>\n",
       "      <th>task_round</th>\n",
       "      <th>mouse_distance</th>\n",
       "      <th>mouse_click</th>\n",
       "      <th>keyboard_press</th>\n",
       "      <th>duration</th>\n",
       "    </tr>\n",
       "  </thead>\n",
       "  <tbody>\n",
       "    <tr>\n",
       "      <th>0</th>\n",
       "      <td>2</td>\n",
       "      <td>0</td>\n",
       "      <td>137703</td>\n",
       "      <td>350</td>\n",
       "      <td>395</td>\n",
       "      <td>761.563</td>\n",
       "    </tr>\n",
       "    <tr>\n",
       "      <th>1</th>\n",
       "      <td>2</td>\n",
       "      <td>1</td>\n",
       "      <td>16718</td>\n",
       "      <td>8</td>\n",
       "      <td>1092</td>\n",
       "      <td>341.584</td>\n",
       "    </tr>\n",
       "    <tr>\n",
       "      <th>2</th>\n",
       "      <td>3</td>\n",
       "      <td>0</td>\n",
       "      <td>193067</td>\n",
       "      <td>385</td>\n",
       "      <td>430</td>\n",
       "      <td>852.177</td>\n",
       "    </tr>\n",
       "    <tr>\n",
       "      <th>3</th>\n",
       "      <td>3</td>\n",
       "      <td>1</td>\n",
       "      <td>16922</td>\n",
       "      <td>20</td>\n",
       "      <td>785</td>\n",
       "      <td>397.007</td>\n",
       "    </tr>\n",
       "    <tr>\n",
       "      <th>4</th>\n",
       "      <td>4</td>\n",
       "      <td>0</td>\n",
       "      <td>269443</td>\n",
       "      <td>470</td>\n",
       "      <td>382</td>\n",
       "      <td>1143.378</td>\n",
       "    </tr>\n",
       "  </tbody>\n",
       "</table>\n",
       "</div>"
      ],
      "text/plain": [
       "   subject_id  task_round  mouse_distance  mouse_click  keyboard_press  \\\n",
       "0           2           0          137703          350             395   \n",
       "1           2           1           16718            8            1092   \n",
       "2           3           0          193067          385             430   \n",
       "3           3           1           16922           20             785   \n",
       "4           4           0          269443          470             382   \n",
       "\n",
       "   duration  \n",
       "0   761.563  \n",
       "1   341.584  \n",
       "2   852.177  \n",
       "3   397.007  \n",
       "4  1143.378  "
      ]
     },
     "execution_count": 18,
     "metadata": {},
     "output_type": "execute_result"
    }
   ],
   "source": [
    "stat =  pd.read_csv(\"./stat_origin.csv\")\n",
    "stat.head()"
   ]
  },
  {
   "cell_type": "code",
   "execution_count": 19,
   "metadata": {},
   "outputs": [],
   "source": [
    "def anova(df: pd.DataFrame ,column: str):\n",
    "    return stats.f_oneway(df[column][df['task_round'] == 0], df[column][df['task_round'] == 1])"
   ]
  },
  {
   "cell_type": "code",
   "execution_count": 20,
   "metadata": {},
   "outputs": [
    {
     "data": {
      "text/html": [
       "<div>\n",
       "<style scoped>\n",
       "    .dataframe tbody tr th:only-of-type {\n",
       "        vertical-align: middle;\n",
       "    }\n",
       "\n",
       "    .dataframe tbody tr th {\n",
       "        vertical-align: top;\n",
       "    }\n",
       "\n",
       "    .dataframe thead th {\n",
       "        text-align: right;\n",
       "    }\n",
       "</style>\n",
       "<table border=\"1\" class=\"dataframe\">\n",
       "  <thead>\n",
       "    <tr style=\"text-align: right;\">\n",
       "      <th></th>\n",
       "      <th>样本数据</th>\n",
       "      <th>F</th>\n",
       "      <th>p</th>\n",
       "    </tr>\n",
       "  </thead>\n",
       "  <tbody>\n",
       "  </tbody>\n",
       "</table>\n",
       "</div>"
      ],
      "text/plain": [
       "Empty DataFrame\n",
       "Columns: [样本数据, F, p]\n",
       "Index: []"
      ]
     },
     "execution_count": 20,
     "metadata": {},
     "output_type": "execute_result"
    }
   ],
   "source": [
    "stat_anova_res = pd.DataFrame(columns=['样本数据', 'F', 'p'])\n",
    "stat_anova_res"
   ]
  },
  {
   "cell_type": "code",
   "execution_count": 21,
   "metadata": {},
   "outputs": [],
   "source": [
    "for column in stat.columns.drop([\"subject_id\", \"task_round\"]):\n",
    "    F, p = anova(stat, column)\n",
    "    # stat_anova_res = stat_anova_res.append({'样本数据': column, 'F': F, 'p': p})\n",
    "    stat_anova_res = pd.concat([stat_anova_res, pd.DataFrame.from_records([{'样本数据': column, 'F': F, 'p': p}])])\n",
    "stat_anova_res['样本数据'] = stat_anova_res['样本数据'].map({\"mouse_distance\": \"鼠标移动距离\", \"mouse_click\": \"鼠标点击次数\", \"keyboard_press\": \"键盘按键次数\", \"duration\": \"任务时长\"})\n",
    "stat_anova_res[\"F\"] =stat_anova_res[\"F\"].apply('{:.3f}'.format)\n",
    "stat_anova_res[\"p\"] =stat_anova_res[\"p\"].apply('{:.3e}'.format)\n",
    "stat_anova_res.to_csv(\"./stat_anova.csv\", index=False)"
   ]
  },
  {
   "attachments": {},
   "cell_type": "markdown",
   "metadata": {},
   "source": [
    "## 交互数据正态性检验"
   ]
  },
  {
   "cell_type": "code",
   "execution_count": 22,
   "metadata": {},
   "outputs": [],
   "source": [
    "def shapiro_wilk(df: pd.DataFrame ,column: str):\n",
    "    round_0_res =  stats.shapiro(df[column][df['task_round'] == 0])\n",
    "    round_1_res =  stats.shapiro(df[column][df['task_round'] == 1])\n",
    "    return pd.DataFrame.from_records([{'样本数据': column, 'task_round': 0, 'W': round_0_res[0], 'p': round_0_res[1]}, {'样本数据': column, 'task_round': 1, 'W': round_1_res[0], 'p': round_1_res[1]}])\n",
    "res = pd.DataFrame(columns=['样本数据', 'task_round', 'W', 'p'])\n",
    "for column in stat.columns.drop([\"subject_id\", \"task_round\"]):\n",
    "    res = pd.concat([res, shapiro_wilk(stat, column)])\n",
    "\n",
    "\n",
    "res[\"样本数据\"] = res[\"样本数据\"].map({\"mouse_distance\": \"鼠标移动距离\", \"mouse_click\": \"鼠标点击次数\", \"keyboard_press\": \"键盘按键次数\", \"duration\": \"任务时长\"})\n",
    "res[\"task_round\"] = res[\"task_round\"].map({0: \"WIMP\", 1: \"M-CAT\"})\n",
    "res.rename(columns={\"W\": \"W 值\", \"p\": \"p 值\", \"task_round\": \"任务组\", \"样本数据\": \"样本数据\"}, inplace=True)\n",
    "\n",
    "res = res.assign(通过检验 = lambda x: x[\"p 值\"] > 0.05 )\n",
    "res[\"通过检验\"] = res[\"通过检验\"].map({True: \"通过\", False: \"拒绝\"})\n",
    "\n",
    "res.to_csv(\"./stat_shapiro_wilk.csv\", index=False, float_format='%.4f')"
   ]
  },
  {
   "cell_type": "code",
   "execution_count": 23,
   "metadata": {},
   "outputs": [
    {
     "data": {
      "text/plain": [
       "ShapiroResult(statistic=0.9246721863746643, pvalue=0.22686441242694855)"
      ]
     },
     "execution_count": 23,
     "metadata": {},
     "output_type": "execute_result"
    }
   ],
   "source": [
    "stats.shapiro(stat[\"mouse_distance\"][stat['task_round'] == 0])"
   ]
  },
  {
   "attachments": {},
   "cell_type": "markdown",
   "metadata": {},
   "source": [
    "## 交互数据组内方差齐性检验"
   ]
  },
  {
   "cell_type": "code",
   "execution_count": 24,
   "metadata": {},
   "outputs": [],
   "source": [
    "def levene(df: pd.DataFrame ,column: str):\n",
    "    return stats.levene(df[column][df['task_round'] == 0], df[column][df['task_round'] == 1])"
   ]
  },
  {
   "cell_type": "code",
   "execution_count": 25,
   "metadata": {},
   "outputs": [],
   "source": [
    "stat_levene_res = pd.DataFrame(columns=['样本数据', 'F', 'p'])\n",
    "for column in stat.columns.drop([\"subject_id\", \"task_round\"]):\n",
    "    F, p = levene(stat, column)\n",
    "    stat_levene_res = pd.concat([stat_levene_res, pd.DataFrame.from_records([{'样本数据': column, 'F': F, 'p': p}])])\n",
    "stat_levene_res = stat_levene_res.assign(通过检验 = lambda x: x[\"p\"] > 0.05 )"
   ]
  },
  {
   "cell_type": "code",
   "execution_count": 26,
   "metadata": {},
   "outputs": [
    {
     "data": {
      "text/html": [
       "<div>\n",
       "<style scoped>\n",
       "    .dataframe tbody tr th:only-of-type {\n",
       "        vertical-align: middle;\n",
       "    }\n",
       "\n",
       "    .dataframe tbody tr th {\n",
       "        vertical-align: top;\n",
       "    }\n",
       "\n",
       "    .dataframe thead th {\n",
       "        text-align: right;\n",
       "    }\n",
       "</style>\n",
       "<table border=\"1\" class=\"dataframe\">\n",
       "  <thead>\n",
       "    <tr style=\"text-align: right;\">\n",
       "      <th></th>\n",
       "      <th>样本数据</th>\n",
       "      <th>F</th>\n",
       "      <th>p</th>\n",
       "      <th>通过检验</th>\n",
       "    </tr>\n",
       "  </thead>\n",
       "  <tbody>\n",
       "    <tr>\n",
       "      <th>0</th>\n",
       "      <td>鼠标移动距离</td>\n",
       "      <td>14.272</td>\n",
       "      <td>0.00076</td>\n",
       "      <td>拒绝</td>\n",
       "    </tr>\n",
       "    <tr>\n",
       "      <th>0</th>\n",
       "      <td>鼠标点击次数</td>\n",
       "      <td>15.696</td>\n",
       "      <td>0.00047</td>\n",
       "      <td>拒绝</td>\n",
       "    </tr>\n",
       "    <tr>\n",
       "      <th>0</th>\n",
       "      <td>键盘按键次数</td>\n",
       "      <td>5.652</td>\n",
       "      <td>0.02450</td>\n",
       "      <td>拒绝</td>\n",
       "    </tr>\n",
       "    <tr>\n",
       "      <th>0</th>\n",
       "      <td>任务时长</td>\n",
       "      <td>1.316</td>\n",
       "      <td>0.26096</td>\n",
       "      <td>通过</td>\n",
       "    </tr>\n",
       "  </tbody>\n",
       "</table>\n",
       "</div>"
      ],
      "text/plain": [
       "     样本数据       F        p 通过检验\n",
       "0  鼠标移动距离  14.272  0.00076   拒绝\n",
       "0  鼠标点击次数  15.696  0.00047   拒绝\n",
       "0  键盘按键次数   5.652  0.02450   拒绝\n",
       "0    任务时长   1.316  0.26096   通过"
      ]
     },
     "execution_count": 26,
     "metadata": {},
     "output_type": "execute_result"
    }
   ],
   "source": [
    "stat_levene_res[\"样本数据\"] = stat_levene_res[\"样本数据\"].map({\"mouse_distance\": \"鼠标移动距离\", \"mouse_click\": \"鼠标点击次数\", \"keyboard_press\": \"键盘按键次数\", \"duration\": \"任务时长\"})\n",
    "stat_levene_res[\"F\"] =stat_levene_res[\"F\"].apply('{:.3f}'.format)\n",
    "stat_levene_res[\"p\"] =stat_levene_res[\"p\"].apply('{:.5f}'.format)\n",
    "stat_levene_res[\"通过检验\"] = stat_levene_res[\"通过检验\"].map({True: \"通过\", False: \"拒绝\"})\n",
    "stat_levene_res.to_csv(\"./stat_levene.csv\", index=False)\n",
    "stat_levene_res"
   ]
  },
  {
   "attachments": {},
   "cell_type": "markdown",
   "metadata": {},
   "source": [
    "## 交互数据组间差异检验\n",
    "\n",
    "由于鼠标移动距离有一组样本未通过正态性检验，将联合采用 Welch’s t\n",
    "检验和 Kruskal-Wallis 单因素方差分析综合分析。Welch’s t 检验是一种参数检验方法，用对比较均值差异，但 Welch’s t 也支持近似正态分布的检验，但结果可能不够准确。Kruskal-Wallis 单因素方差分析是一种非参数检验方法，用于检验样本间中位数差异，不要求总体分布参数。\n",
    "\n",
    "鼠标点击次数和键盘按键次数通过了正态性检验，但未通过方差齐性检验，因此采用 Welch’s t 检验。Welch’s t 检验不要求样本间方差相同。\n",
    "\n",
    "任务时间通过了正态性检验和方差齐性检验，使用 ANOVA 单因素方差分析进行检验。"
   ]
  },
  {
   "attachments": {},
   "cell_type": "markdown",
   "metadata": {},
   "source": [
    "### 鼠标移动距离（Wt 和 KW）"
   ]
  },
  {
   "cell_type": "code",
   "execution_count": 27,
   "metadata": {},
   "outputs": [],
   "source": [
    "mouse_distance_0 = stat[\"mouse_distance\"][stat['task_round'] == 0]\n",
    "mouse_distance_1 = stat[\"mouse_distance\"][stat['task_round'] == 1]"
   ]
  },
  {
   "cell_type": "code",
   "execution_count": 28,
   "metadata": {},
   "outputs": [
    {
     "name": "stdout",
     "output_type": "stream",
     "text": [
      "鼠标移动距离的 t 检验结果为：t=11.254, p=1.051e-08\n",
      "鼠标移动距离的 Kruskal 检验结果为：H=21.774, p=3.067e-06\n"
     ]
    }
   ],
   "source": [
    "mouse_distance_t, mouse_distance_p_0 =stats.ttest_ind(mouse_distance_0, mouse_distance_1, equal_var=False)\n",
    "mouse_distance_H, mouse_distance_p_1 = stats.kruskal(mouse_distance_0, mouse_distance_1)\n",
    "print(f\"鼠标移动距离的 t 检验结果为：t={mouse_distance_t:.3f}, p={mouse_distance_p_0:.3e}\")\n",
    "print(f\"鼠标移动距离的 Kruskal 检验结果为：H={mouse_distance_H:.3f}, p={mouse_distance_p_1:.3e}\")"
   ]
  },
  {
   "attachments": {},
   "cell_type": "markdown",
   "metadata": {},
   "source": [
    "### 鼠标点击次数 键盘击键次数（Wt）"
   ]
  },
  {
   "cell_type": "code",
   "execution_count": 29,
   "metadata": {},
   "outputs": [
    {
     "name": "stdout",
     "output_type": "stream",
     "text": [
      "鼠标击键次数的 t 检验结果为：t=17.451, p=4.887e-11\n"
     ]
    }
   ],
   "source": [
    "mouse_click_t, mouse_click_p = stats.ttest_ind(stat[\"mouse_click\"][stat['task_round'] == 0], stat[\"mouse_click\"][stat['task_round'] == 1], equal_var=False)\n",
    "print(f\"鼠标击键次数的 t 检验结果为：t={mouse_click_t:.3f}, p={mouse_click_p:.3e}\")"
   ]
  },
  {
   "cell_type": "code",
   "execution_count": 30,
   "metadata": {},
   "outputs": [
    {
     "name": "stdout",
     "output_type": "stream",
     "text": [
      "键盘按键次数的 t 检验结果为：t=-9.502, p=1.407e-08\n"
     ]
    }
   ],
   "source": [
    "keyboard_press_t, keyboard_press_p = stats.ttest_ind(stat[\"keyboard_press\"][stat['task_round'] == 0], stat[\"keyboard_press\"][stat['task_round'] == 1], equal_var=False)\n",
    "print(f\"键盘按键次数的 t 检验结果为：t={keyboard_press_t:.3f}, p={keyboard_press_p:.3e}\")"
   ]
  },
  {
   "attachments": {},
   "cell_type": "markdown",
   "metadata": {},
   "source": [
    "### 任务时间（ANOVA）"
   ]
  },
  {
   "attachments": {},
   "cell_type": "markdown",
   "metadata": {},
   "source": [
    "### 汇总结果"
   ]
  },
  {
   "cell_type": "code",
   "execution_count": 31,
   "metadata": {},
   "outputs": [
    {
     "name": "stdout",
     "output_type": "stream",
     "text": [
      "任务时长的 ANOVA 检验结果为：~$t = 39.127, p = 9.237e-07$~\n"
     ]
    }
   ],
   "source": [
    "F, p = stats.f_oneway(stat[\"duration\"][stat['task_round'] == 0], stat[\"duration\"][stat['task_round'] == 1])\n",
    "print(f\"任务时长的 ANOVA 检验结果为：~$t = {F:.3f}, p = {p:.3e}$~\")"
   ]
  },
  {
   "cell_type": "code",
   "execution_count": 37,
   "metadata": {},
   "outputs": [
    {
     "data": {
      "text/html": [
       "<div>\n",
       "<style scoped>\n",
       "    .dataframe tbody tr th:only-of-type {\n",
       "        vertical-align: middle;\n",
       "    }\n",
       "\n",
       "    .dataframe tbody tr th {\n",
       "        vertical-align: top;\n",
       "    }\n",
       "\n",
       "    .dataframe thead th {\n",
       "        text-align: right;\n",
       "    }\n",
       "</style>\n",
       "<table border=\"1\" class=\"dataframe\">\n",
       "  <thead>\n",
       "    <tr style=\"text-align: right;\">\n",
       "      <th></th>\n",
       "      <th>样本数据</th>\n",
       "      <th>检验方法</th>\n",
       "      <th>统计量</th>\n",
       "      <th>值</th>\n",
       "      <th>p</th>\n",
       "      <th>通过（p&lt;0.05）</th>\n",
       "    </tr>\n",
       "  </thead>\n",
       "  <tbody>\n",
       "    <tr>\n",
       "      <th>0</th>\n",
       "      <td>鼠标移动距离</td>\n",
       "      <td>Welch's t</td>\n",
       "      <td>t</td>\n",
       "      <td>11.254</td>\n",
       "      <td>1.051e-08</td>\n",
       "      <td>通过</td>\n",
       "    </tr>\n",
       "    <tr>\n",
       "      <th>1</th>\n",
       "      <td>鼠标移动距离</td>\n",
       "      <td>Kruskal-Wallis</td>\n",
       "      <td>H</td>\n",
       "      <td>21.774</td>\n",
       "      <td>3.067e-06</td>\n",
       "      <td>通过</td>\n",
       "    </tr>\n",
       "    <tr>\n",
       "      <th>2</th>\n",
       "      <td>鼠标点击次数</td>\n",
       "      <td>Welch's t</td>\n",
       "      <td>t</td>\n",
       "      <td>17.451</td>\n",
       "      <td>4.887e-11</td>\n",
       "      <td>通过</td>\n",
       "    </tr>\n",
       "    <tr>\n",
       "      <th>3</th>\n",
       "      <td>键盘按键次数</td>\n",
       "      <td>Welch's t</td>\n",
       "      <td>t</td>\n",
       "      <td>-9.502</td>\n",
       "      <td>1.407e-08</td>\n",
       "      <td>通过</td>\n",
       "    </tr>\n",
       "    <tr>\n",
       "      <th>4</th>\n",
       "      <td>任务时长</td>\n",
       "      <td>ANOVA</td>\n",
       "      <td>F</td>\n",
       "      <td>11.380</td>\n",
       "      <td>2.187e-03</td>\n",
       "      <td>通过</td>\n",
       "    </tr>\n",
       "  </tbody>\n",
       "</table>\n",
       "</div>"
      ],
      "text/plain": [
       "     样本数据            检验方法 统计量       值          p 通过（p<0.05）\n",
       "0  鼠标移动距离       Welch's t   t  11.254  1.051e-08         通过\n",
       "1  鼠标移动距离  Kruskal-Wallis   H  21.774  3.067e-06         通过\n",
       "2  鼠标点击次数       Welch's t   t  17.451  4.887e-11         通过\n",
       "3  键盘按键次数       Welch's t   t  -9.502  1.407e-08         通过\n",
       "4    任务时长           ANOVA   F  11.380  2.187e-03         通过"
      ]
     },
     "execution_count": 37,
     "metadata": {},
     "output_type": "execute_result"
    }
   ],
   "source": [
    "res = pd.DataFrame(columns=['样本数据','检验方法', '统计量','值', 'p'])\n",
    "res.loc[0] = [\"鼠标移动距离\", \"Welch's t\",\"t\", mouse_distance_t, mouse_distance_p_0]\n",
    "res.loc[1] = [\"鼠标移动距离\", \"Kruskal-Wallis\",\"H\", mouse_distance_H, mouse_distance_p_1]\n",
    "res.loc[2] = [\"鼠标点击次数\", \"Welch's t\",\"t\", mouse_click_t, mouse_click_p]\n",
    "res.loc[3] = [\"键盘按键次数\", \"Welch's t\",\"t\", keyboard_press_t, keyboard_press_p]\n",
    "res.loc[4] = [\"任务时长\", \"ANOVA\",\"F\", F, p]\n",
    "res = res.assign(pas=\"通过\")\n",
    "res[\"p\"] = res[\"p\"].apply('{:.3e}'.format)\n",
    "res[\"值\"] = res[\"值\"].apply('{:.3f}'.format)\n",
    "res = res.rename({\"pas\": \"通过（p<0.05）\"}, axis=1)\n",
    "res.to_csv(\"stat_result.csv\", index=False, float_format='%.3f')\n",
    "res\n"
   ]
  },
  {
   "attachments": {},
   "cell_type": "markdown",
   "metadata": {},
   "source": [
    "# 量表数据"
   ]
  },
  {
   "attachments": {},
   "cell_type": "markdown",
   "metadata": {},
   "source": [
    "## 量表数据正态性检验"
   ]
  },
  {
   "cell_type": "code",
   "execution_count": 33,
   "metadata": {},
   "outputs": [
    {
     "data": {
      "text/html": [
       "<div>\n",
       "<style scoped>\n",
       "    .dataframe tbody tr th:only-of-type {\n",
       "        vertical-align: middle;\n",
       "    }\n",
       "\n",
       "    .dataframe tbody tr th {\n",
       "        vertical-align: top;\n",
       "    }\n",
       "\n",
       "    .dataframe thead th {\n",
       "        text-align: right;\n",
       "    }\n",
       "</style>\n",
       "<table border=\"1\" class=\"dataframe\">\n",
       "  <thead>\n",
       "    <tr style=\"text-align: right;\">\n",
       "      <th></th>\n",
       "      <th>subject_id</th>\n",
       "      <th>task_round</th>\n",
       "      <th>sus</th>\n",
       "      <th>effect</th>\n",
       "      <th>easy</th>\n",
       "      <th>easy_learn</th>\n",
       "      <th>satisfaction</th>\n",
       "    </tr>\n",
       "  </thead>\n",
       "  <tbody>\n",
       "    <tr>\n",
       "      <th>0</th>\n",
       "      <td>13</td>\n",
       "      <td>1</td>\n",
       "      <td>87.5</td>\n",
       "      <td>47.6</td>\n",
       "      <td>67.2</td>\n",
       "      <td>24.6</td>\n",
       "      <td>48</td>\n",
       "    </tr>\n",
       "    <tr>\n",
       "      <th>1</th>\n",
       "      <td>13</td>\n",
       "      <td>0</td>\n",
       "      <td>47.5</td>\n",
       "      <td>36.4</td>\n",
       "      <td>37.2</td>\n",
       "      <td>13.0</td>\n",
       "      <td>28</td>\n",
       "    </tr>\n",
       "    <tr>\n",
       "      <th>2</th>\n",
       "      <td>15</td>\n",
       "      <td>1</td>\n",
       "      <td>80.0</td>\n",
       "      <td>54.6</td>\n",
       "      <td>64.8</td>\n",
       "      <td>26.6</td>\n",
       "      <td>48</td>\n",
       "    </tr>\n",
       "    <tr>\n",
       "      <th>3</th>\n",
       "      <td>15</td>\n",
       "      <td>0</td>\n",
       "      <td>55.0</td>\n",
       "      <td>42.8</td>\n",
       "      <td>47.0</td>\n",
       "      <td>19.0</td>\n",
       "      <td>34</td>\n",
       "    </tr>\n",
       "    <tr>\n",
       "      <th>4</th>\n",
       "      <td>16</td>\n",
       "      <td>1</td>\n",
       "      <td>72.5</td>\n",
       "      <td>45.8</td>\n",
       "      <td>58.4</td>\n",
       "      <td>26.6</td>\n",
       "      <td>49</td>\n",
       "    </tr>\n",
       "  </tbody>\n",
       "</table>\n",
       "</div>"
      ],
      "text/plain": [
       "   subject_id  task_round   sus  effect  easy  easy_learn  satisfaction\n",
       "0          13           1  87.5    47.6  67.2        24.6            48\n",
       "1          13           0  47.5    36.4  37.2        13.0            28\n",
       "2          15           1  80.0    54.6  64.8        26.6            48\n",
       "3          15           0  55.0    42.8  47.0        19.0            34\n",
       "4          16           1  72.5    45.8  58.4        26.6            49"
      ]
     },
     "execution_count": 33,
     "metadata": {},
     "output_type": "execute_result"
    }
   ],
   "source": [
    "scale = pd.read_csv(\"./scale_origin.csv\")\n",
    "scale.head()"
   ]
  },
  {
   "cell_type": "code",
   "execution_count": 34,
   "metadata": {},
   "outputs": [
    {
     "data": {
      "text/html": [
       "<div>\n",
       "<style scoped>\n",
       "    .dataframe tbody tr th:only-of-type {\n",
       "        vertical-align: middle;\n",
       "    }\n",
       "\n",
       "    .dataframe tbody tr th {\n",
       "        vertical-align: top;\n",
       "    }\n",
       "\n",
       "    .dataframe thead th {\n",
       "        text-align: right;\n",
       "    }\n",
       "</style>\n",
       "<table border=\"1\" class=\"dataframe\">\n",
       "  <thead>\n",
       "    <tr style=\"text-align: right;\">\n",
       "      <th></th>\n",
       "      <th>样本数据</th>\n",
       "      <th>任务组</th>\n",
       "      <th>W</th>\n",
       "      <th>p</th>\n",
       "      <th>通过检验</th>\n",
       "    </tr>\n",
       "  </thead>\n",
       "  <tbody>\n",
       "    <tr>\n",
       "      <th>0</th>\n",
       "      <td>SUS 评分</td>\n",
       "      <td>WIMP</td>\n",
       "      <td>0.967739</td>\n",
       "      <td>0.823279</td>\n",
       "      <td>通过</td>\n",
       "    </tr>\n",
       "    <tr>\n",
       "      <th>1</th>\n",
       "      <td>SUS 评分</td>\n",
       "      <td>M-CAT</td>\n",
       "      <td>0.943743</td>\n",
       "      <td>0.431777</td>\n",
       "      <td>通过</td>\n",
       "    </tr>\n",
       "    <tr>\n",
       "      <th>0</th>\n",
       "      <td>USE 有效性评分</td>\n",
       "      <td>WIMP</td>\n",
       "      <td>0.965602</td>\n",
       "      <td>0.788450</td>\n",
       "      <td>通过</td>\n",
       "    </tr>\n",
       "    <tr>\n",
       "      <th>1</th>\n",
       "      <td>USE 有效性评分</td>\n",
       "      <td>M-CAT</td>\n",
       "      <td>0.860291</td>\n",
       "      <td>0.024367</td>\n",
       "      <td>拒绝</td>\n",
       "    </tr>\n",
       "    <tr>\n",
       "      <th>0</th>\n",
       "      <td>USE 易用性</td>\n",
       "      <td>WIMP</td>\n",
       "      <td>0.950191</td>\n",
       "      <td>0.527465</td>\n",
       "      <td>通过</td>\n",
       "    </tr>\n",
       "    <tr>\n",
       "      <th>1</th>\n",
       "      <td>USE 易用性</td>\n",
       "      <td>M-CAT</td>\n",
       "      <td>0.884742</td>\n",
       "      <td>0.055871</td>\n",
       "      <td>通过</td>\n",
       "    </tr>\n",
       "    <tr>\n",
       "      <th>0</th>\n",
       "      <td>USE 易学性评分</td>\n",
       "      <td>WIMP</td>\n",
       "      <td>0.935842</td>\n",
       "      <td>0.332947</td>\n",
       "      <td>通过</td>\n",
       "    </tr>\n",
       "    <tr>\n",
       "      <th>1</th>\n",
       "      <td>USE 易学性评分</td>\n",
       "      <td>M-CAT</td>\n",
       "      <td>0.707486</td>\n",
       "      <td>0.000299</td>\n",
       "      <td>拒绝</td>\n",
       "    </tr>\n",
       "    <tr>\n",
       "      <th>0</th>\n",
       "      <td>USE 满意度评分</td>\n",
       "      <td>WIMP</td>\n",
       "      <td>0.905932</td>\n",
       "      <td>0.117297</td>\n",
       "      <td>通过</td>\n",
       "    </tr>\n",
       "    <tr>\n",
       "      <th>1</th>\n",
       "      <td>USE 满意度评分</td>\n",
       "      <td>M-CAT</td>\n",
       "      <td>0.813209</td>\n",
       "      <td>0.005459</td>\n",
       "      <td>拒绝</td>\n",
       "    </tr>\n",
       "  </tbody>\n",
       "</table>\n",
       "</div>"
      ],
      "text/plain": [
       "        样本数据    任务组         W         p 通过检验\n",
       "0     SUS 评分   WIMP  0.967739  0.823279   通过\n",
       "1     SUS 评分  M-CAT  0.943743  0.431777   通过\n",
       "0  USE 有效性评分   WIMP  0.965602  0.788450   通过\n",
       "1  USE 有效性评分  M-CAT  0.860291  0.024367   拒绝\n",
       "0    USE 易用性   WIMP  0.950191  0.527465   通过\n",
       "1    USE 易用性  M-CAT  0.884742  0.055871   通过\n",
       "0  USE 易学性评分   WIMP  0.935842  0.332947   通过\n",
       "1  USE 易学性评分  M-CAT  0.707486  0.000299   拒绝\n",
       "0  USE 满意度评分   WIMP  0.905932  0.117297   通过\n",
       "1  USE 满意度评分  M-CAT  0.813209  0.005459   拒绝"
      ]
     },
     "execution_count": 34,
     "metadata": {},
     "output_type": "execute_result"
    }
   ],
   "source": [
    "res = pd.DataFrame(columns=['样本数据', 'task_round', 'W', 'p'])\n",
    "for column in scale.columns.drop([\"subject_id\", \"task_round\"]):\n",
    "    res = pd.concat([res, shapiro_wilk(scale, column)])\n",
    "res = res.assign(通过检验 = lambda x: x[\"p\"] > 0.05 )\n",
    "res[\"task_round\"] = res[\"task_round\"].map({0: \"WIMP\", 1: \"M-CAT\"})\n",
    "res[\"通过检验\"] = res[\"通过检验\"].map({True: \"通过\", False: \"拒绝\"})\n",
    "res.rename(columns={\"task_round\": \"任务组\"}, inplace=True)\n",
    "\n",
    "res[\"样本数据\"] = res[\"样本数据\"].map({\"sus\": \"SUS 评分\", \"effect\": \"USE 有效性评分\", \"easy\": \"USE 易用性\", \"easy_learn\": \"USE 易学性评分\", \"satisfaction\": \"USE 满意度评分\", \"mouse_distance\": \"鼠标移动距离\", \"mouse_click\": \"鼠标点击次数\", \"keyboard_press\": \"键盘按键次数\", \"duration\": \"任务时长\"})\n",
    "res.to_csv(\"./scale_shapiro_wilk.csv\", index=False, float_format='%.4f')\n",
    "res"
   ]
  },
  {
   "attachments": {},
   "cell_type": "markdown",
   "metadata": {},
   "source": [
    "## 量表数据组间方差齐性检验"
   ]
  },
  {
   "cell_type": "code",
   "execution_count": 35,
   "metadata": {},
   "outputs": [],
   "source": [
    "res = pd.DataFrame(columns=['样本数据', 'F', 'p'])\n",
    "for column in scale.columns.drop([\"subject_id\", \"task_round\"]):\n",
    "    F, p = levene(scale, column)\n",
    "    res = pd.concat([res, pd.DataFrame({'样本数据': column, 'F': F, 'p': p}, index=[0])])\n",
    "res = res.assign(通过检验 = lambda x: x[\"p\"] > 0.05 )\n",
    "\n",
    "res[\"通过检验\"] = res[\"通过检验\"].map({True: \"通过\", False: \"拒绝\"})\n",
    "res[\"样本数据\"] = res[\"样本数据\"].map({\"sus\": \"SUS 评分\", \"effect\": \"USE 有效性评分\", \"easy\": \"USE 易用性\", \"easy_learn\": \"USE 易学性评分\", \"satisfaction\": \"USE 满意度评分\", \"mouse_distance\": \"鼠标移动距离\", \"mouse_click\": \"鼠标点击次数\", \"keyboard_press\": \"键盘按键次数\", \"duration\": \"任务时长\"})\n",
    "res.to_csv(\"./scale_levene.csv\", index=False, float_format='%.4f')"
   ]
  },
  {
   "cell_type": "code",
   "execution_count": 36,
   "metadata": {},
   "outputs": [
    {
     "data": {
      "text/html": [
       "<div>\n",
       "<style scoped>\n",
       "    .dataframe tbody tr th:only-of-type {\n",
       "        vertical-align: middle;\n",
       "    }\n",
       "\n",
       "    .dataframe tbody tr th {\n",
       "        vertical-align: top;\n",
       "    }\n",
       "\n",
       "    .dataframe thead th {\n",
       "        text-align: right;\n",
       "    }\n",
       "</style>\n",
       "<table border=\"1\" class=\"dataframe\">\n",
       "  <thead>\n",
       "    <tr style=\"text-align: right;\">\n",
       "      <th></th>\n",
       "      <th>样本数据</th>\n",
       "      <th>F</th>\n",
       "      <th>p</th>\n",
       "      <th>通过检验</th>\n",
       "    </tr>\n",
       "  </thead>\n",
       "  <tbody>\n",
       "    <tr>\n",
       "      <th>0</th>\n",
       "      <td>SUS 评分</td>\n",
       "      <td>1.636804</td>\n",
       "      <td>0.211265</td>\n",
       "      <td>通过</td>\n",
       "    </tr>\n",
       "    <tr>\n",
       "      <th>0</th>\n",
       "      <td>USE 有效性评分</td>\n",
       "      <td>4.487491</td>\n",
       "      <td>0.043151</td>\n",
       "      <td>拒绝</td>\n",
       "    </tr>\n",
       "    <tr>\n",
       "      <th>0</th>\n",
       "      <td>USE 易用性</td>\n",
       "      <td>3.006638</td>\n",
       "      <td>0.093923</td>\n",
       "      <td>通过</td>\n",
       "    </tr>\n",
       "    <tr>\n",
       "      <th>0</th>\n",
       "      <td>USE 易学性评分</td>\n",
       "      <td>9.903864</td>\n",
       "      <td>0.003892</td>\n",
       "      <td>拒绝</td>\n",
       "    </tr>\n",
       "    <tr>\n",
       "      <th>0</th>\n",
       "      <td>USE 满意度评分</td>\n",
       "      <td>11.380226</td>\n",
       "      <td>0.002187</td>\n",
       "      <td>拒绝</td>\n",
       "    </tr>\n",
       "  </tbody>\n",
       "</table>\n",
       "</div>"
      ],
      "text/plain": [
       "        样本数据          F         p 通过检验\n",
       "0     SUS 评分   1.636804  0.211265   通过\n",
       "0  USE 有效性评分   4.487491  0.043151   拒绝\n",
       "0    USE 易用性   3.006638  0.093923   通过\n",
       "0  USE 易学性评分   9.903864  0.003892   拒绝\n",
       "0  USE 满意度评分  11.380226  0.002187   拒绝"
      ]
     },
     "execution_count": 36,
     "metadata": {},
     "output_type": "execute_result"
    }
   ],
   "source": [
    "res"
   ]
  },
  {
   "cell_type": "code",
   "execution_count": null,
   "metadata": {},
   "outputs": [],
   "source": []
  },
  {
   "attachments": {},
   "cell_type": "markdown",
   "metadata": {},
   "source": [
    "## 量表数据推论统计\n",
    "\n",
    "SUS 评分和 USE 易用性评分通过了正态性检验和方差齐性检验，使用 ANOVA 单因素方差分析检验均值差异。取显著性水平为 $\\alpha = 0.05$，在 $p > 0.05$ 时通过检验。\n",
    "\n",
    "USE 有效性、易学性和满意度均未通过正态性检验和方差齐性检验，联合采用 Welch’s t 检验和 Kruskal-Wallis 单因素方差分析综合分析组内差异。取显著性水平为 $\\alpha = 0.05$，在 $p > 0.05$ 时通过检验。"
   ]
  },
  {
   "cell_type": "markdown",
   "metadata": {},
   "source": []
  }
 ],
 "metadata": {
  "kernelspec": {
   "display_name": "ml",
   "language": "python",
   "name": "python3"
  },
  "language_info": {
   "codemirror_mode": {
    "name": "ipython",
    "version": 3
   },
   "file_extension": ".py",
   "mimetype": "text/x-python",
   "name": "python",
   "nbconvert_exporter": "python",
   "pygments_lexer": "ipython3",
   "version": "3.9.13"
  },
  "orig_nbformat": 4
 },
 "nbformat": 4,
 "nbformat_minor": 2
}
