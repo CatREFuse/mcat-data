{
 "cells": [
  {
   "cell_type": "code",
   "execution_count": 2,
   "metadata": {},
   "outputs": [],
   "source": [
    "import pandas as pd\n",
    "import numpy as np\n",
    "from scipy import stats"
   ]
  },
  {
   "attachments": {},
   "cell_type": "markdown",
   "metadata": {},
   "source": [
    "# 交互数据"
   ]
  },
  {
   "attachments": {},
   "cell_type": "markdown",
   "metadata": {},
   "source": [
    "## 交互数据单方差分析"
   ]
  },
  {
   "cell_type": "code",
   "execution_count": 3,
   "metadata": {},
   "outputs": [
    {
     "data": {
      "text/html": [
       "<div>\n",
       "<style scoped>\n",
       "    .dataframe tbody tr th:only-of-type {\n",
       "        vertical-align: middle;\n",
       "    }\n",
       "\n",
       "    .dataframe tbody tr th {\n",
       "        vertical-align: top;\n",
       "    }\n",
       "\n",
       "    .dataframe thead th {\n",
       "        text-align: right;\n",
       "    }\n",
       "</style>\n",
       "<table border=\"1\" class=\"dataframe\">\n",
       "  <thead>\n",
       "    <tr style=\"text-align: right;\">\n",
       "      <th></th>\n",
       "      <th>subject_id</th>\n",
       "      <th>task_round</th>\n",
       "      <th>mouse_distance</th>\n",
       "      <th>mouse_click</th>\n",
       "      <th>keyboard_press</th>\n",
       "      <th>duration</th>\n",
       "      <th>cost</th>\n",
       "    </tr>\n",
       "  </thead>\n",
       "  <tbody>\n",
       "    <tr>\n",
       "      <th>0</th>\n",
       "      <td>2</td>\n",
       "      <td>0</td>\n",
       "      <td>137703</td>\n",
       "      <td>350</td>\n",
       "      <td>395</td>\n",
       "      <td>761.563</td>\n",
       "      <td>258.646</td>\n",
       "    </tr>\n",
       "    <tr>\n",
       "      <th>1</th>\n",
       "      <td>2</td>\n",
       "      <td>1</td>\n",
       "      <td>16718</td>\n",
       "      <td>8</td>\n",
       "      <td>1092</td>\n",
       "      <td>341.584</td>\n",
       "      <td>236.761</td>\n",
       "    </tr>\n",
       "    <tr>\n",
       "      <th>2</th>\n",
       "      <td>3</td>\n",
       "      <td>0</td>\n",
       "      <td>193067</td>\n",
       "      <td>385</td>\n",
       "      <td>430</td>\n",
       "      <td>852.177</td>\n",
       "      <td>327.301</td>\n",
       "    </tr>\n",
       "    <tr>\n",
       "      <th>3</th>\n",
       "      <td>3</td>\n",
       "      <td>1</td>\n",
       "      <td>16922</td>\n",
       "      <td>20</td>\n",
       "      <td>785</td>\n",
       "      <td>397.007</td>\n",
       "      <td>176.775</td>\n",
       "    </tr>\n",
       "    <tr>\n",
       "      <th>4</th>\n",
       "      <td>4</td>\n",
       "      <td>0</td>\n",
       "      <td>269443</td>\n",
       "      <td>470</td>\n",
       "      <td>382</td>\n",
       "      <td>1143.378</td>\n",
       "      <td>406.428</td>\n",
       "    </tr>\n",
       "  </tbody>\n",
       "</table>\n",
       "</div>"
      ],
      "text/plain": [
       "   subject_id  task_round  mouse_distance  mouse_click  keyboard_press  \\\n",
       "0           2           0          137703          350             395   \n",
       "1           2           1           16718            8            1092   \n",
       "2           3           0          193067          385             430   \n",
       "3           3           1           16922           20             785   \n",
       "4           4           0          269443          470             382   \n",
       "\n",
       "   duration     cost  \n",
       "0   761.563  258.646  \n",
       "1   341.584  236.761  \n",
       "2   852.177  327.301  \n",
       "3   397.007  176.775  \n",
       "4  1143.378  406.428  "
      ]
     },
     "execution_count": 3,
     "metadata": {},
     "output_type": "execute_result"
    }
   ],
   "source": [
    "stat =  pd.read_csv(\"./stat_origin.csv\")\n",
    "stat.head()"
   ]
  },
  {
   "cell_type": "code",
   "execution_count": 4,
   "metadata": {},
   "outputs": [],
   "source": [
    "def anova(df: pd.DataFrame ,column: str):\n",
    "    return stats.f_oneway(df[column][df['task_round'] == 0], df[column][df['task_round'] == 1])"
   ]
  },
  {
   "cell_type": "code",
   "execution_count": 5,
   "metadata": {},
   "outputs": [
    {
     "data": {
      "text/html": [
       "<div>\n",
       "<style scoped>\n",
       "    .dataframe tbody tr th:only-of-type {\n",
       "        vertical-align: middle;\n",
       "    }\n",
       "\n",
       "    .dataframe tbody tr th {\n",
       "        vertical-align: top;\n",
       "    }\n",
       "\n",
       "    .dataframe thead th {\n",
       "        text-align: right;\n",
       "    }\n",
       "</style>\n",
       "<table border=\"1\" class=\"dataframe\">\n",
       "  <thead>\n",
       "    <tr style=\"text-align: right;\">\n",
       "      <th></th>\n",
       "      <th>样本数据</th>\n",
       "      <th>F</th>\n",
       "      <th>p</th>\n",
       "    </tr>\n",
       "  </thead>\n",
       "  <tbody>\n",
       "  </tbody>\n",
       "</table>\n",
       "</div>"
      ],
      "text/plain": [
       "Empty DataFrame\n",
       "Columns: [样本数据, F, p]\n",
       "Index: []"
      ]
     },
     "execution_count": 5,
     "metadata": {},
     "output_type": "execute_result"
    }
   ],
   "source": [
    "stat_anova_res = pd.DataFrame(columns=['样本数据', 'F', 'p'])\n",
    "stat_anova_res"
   ]
  },
  {
   "cell_type": "code",
   "execution_count": 6,
   "metadata": {},
   "outputs": [
    {
     "data": {
      "text/html": [
       "<div>\n",
       "<style scoped>\n",
       "    .dataframe tbody tr th:only-of-type {\n",
       "        vertical-align: middle;\n",
       "    }\n",
       "\n",
       "    .dataframe tbody tr th {\n",
       "        vertical-align: top;\n",
       "    }\n",
       "\n",
       "    .dataframe thead th {\n",
       "        text-align: right;\n",
       "    }\n",
       "</style>\n",
       "<table border=\"1\" class=\"dataframe\">\n",
       "  <thead>\n",
       "    <tr style=\"text-align: right;\">\n",
       "      <th></th>\n",
       "      <th>样本数据</th>\n",
       "      <th>F</th>\n",
       "      <th>p</th>\n",
       "    </tr>\n",
       "  </thead>\n",
       "  <tbody>\n",
       "    <tr>\n",
       "      <th>0</th>\n",
       "      <td>鼠标移动距离</td>\n",
       "      <td>170.684</td>\n",
       "      <td>5.129e-16</td>\n",
       "    </tr>\n",
       "    <tr>\n",
       "      <th>0</th>\n",
       "      <td>鼠标点击次数</td>\n",
       "      <td>403.055</td>\n",
       "      <td>1.697e-22</td>\n",
       "    </tr>\n",
       "    <tr>\n",
       "      <th>0</th>\n",
       "      <td>键盘按键次数</td>\n",
       "      <td>45.804</td>\n",
       "      <td>3.953e-08</td>\n",
       "    </tr>\n",
       "    <tr>\n",
       "      <th>0</th>\n",
       "      <td>任务时长</td>\n",
       "      <td>52.588</td>\n",
       "      <td>8.386e-09</td>\n",
       "    </tr>\n",
       "    <tr>\n",
       "      <th>0</th>\n",
       "      <td>操作成本</td>\n",
       "      <td>4.956</td>\n",
       "      <td>3.170e-02</td>\n",
       "    </tr>\n",
       "  </tbody>\n",
       "</table>\n",
       "</div>"
      ],
      "text/plain": [
       "     样本数据        F          p\n",
       "0  鼠标移动距离  170.684  5.129e-16\n",
       "0  鼠标点击次数  403.055  1.697e-22\n",
       "0  键盘按键次数   45.804  3.953e-08\n",
       "0    任务时长   52.588  8.386e-09\n",
       "0    操作成本    4.956  3.170e-02"
      ]
     },
     "execution_count": 6,
     "metadata": {},
     "output_type": "execute_result"
    }
   ],
   "source": [
    "for column in stat.columns.drop([\"subject_id\", \"task_round\"]):\n",
    "    F, p = anova(stat, column)\n",
    "    # stat_anova_res = stat_anova_res.append({'样本数据': column, 'F': F, 'p': p})\n",
    "    stat_anova_res = pd.concat([stat_anova_res, pd.DataFrame.from_records([{'样本数据': column, 'F': F, 'p': p}])])\n",
    "stat_anova_res['样本数据'] = stat_anova_res['样本数据'].map({\"mouse_distance\": \"鼠标移动距离\", \"mouse_click\": \"鼠标点击次数\", \"keyboard_press\": \"键盘按键次数\", \"duration\": \"任务时长\", \"cost\": \"操作成本\"})\n",
    "stat_anova_res[\"F\"] =stat_anova_res[\"F\"].apply('{:.3f}'.format)\n",
    "stat_anova_res[\"p\"] =stat_anova_res[\"p\"].apply('{:.3e}'.format)\n",
    "stat_anova_res.to_csv(\"./stat_anova.csv\", index=False)\n",
    "stat_anova_res"
   ]
  },
  {
   "attachments": {},
   "cell_type": "markdown",
   "metadata": {},
   "source": [
    "## 交互数据正态性检验"
   ]
  },
  {
   "cell_type": "code",
   "execution_count": 7,
   "metadata": {},
   "outputs": [
    {
     "data": {
      "text/html": [
       "<div>\n",
       "<style scoped>\n",
       "    .dataframe tbody tr th:only-of-type {\n",
       "        vertical-align: middle;\n",
       "    }\n",
       "\n",
       "    .dataframe tbody tr th {\n",
       "        vertical-align: top;\n",
       "    }\n",
       "\n",
       "    .dataframe thead th {\n",
       "        text-align: right;\n",
       "    }\n",
       "</style>\n",
       "<table border=\"1\" class=\"dataframe\">\n",
       "  <thead>\n",
       "    <tr style=\"text-align: right;\">\n",
       "      <th></th>\n",
       "      <th>样本数据</th>\n",
       "      <th>任务组</th>\n",
       "      <th>W 值</th>\n",
       "      <th>p 值</th>\n",
       "      <th>通过检验</th>\n",
       "    </tr>\n",
       "  </thead>\n",
       "  <tbody>\n",
       "    <tr>\n",
       "      <th>0</th>\n",
       "      <td>鼠标移动距离</td>\n",
       "      <td>WIMP</td>\n",
       "      <td>0.932694</td>\n",
       "      <td>0.155871</td>\n",
       "      <td>通过</td>\n",
       "    </tr>\n",
       "    <tr>\n",
       "      <th>1</th>\n",
       "      <td>鼠标移动距离</td>\n",
       "      <td>M-CAT</td>\n",
       "      <td>0.852645</td>\n",
       "      <td>0.004719</td>\n",
       "      <td>拒绝</td>\n",
       "    </tr>\n",
       "    <tr>\n",
       "      <th>0</th>\n",
       "      <td>鼠标点击次数</td>\n",
       "      <td>WIMP</td>\n",
       "      <td>0.946222</td>\n",
       "      <td>0.288435</td>\n",
       "      <td>通过</td>\n",
       "    </tr>\n",
       "    <tr>\n",
       "      <th>1</th>\n",
       "      <td>鼠标点击次数</td>\n",
       "      <td>M-CAT</td>\n",
       "      <td>0.770968</td>\n",
       "      <td>0.000244</td>\n",
       "      <td>拒绝</td>\n",
       "    </tr>\n",
       "    <tr>\n",
       "      <th>0</th>\n",
       "      <td>键盘按键次数</td>\n",
       "      <td>WIMP</td>\n",
       "      <td>0.947406</td>\n",
       "      <td>0.304001</td>\n",
       "      <td>通过</td>\n",
       "    </tr>\n",
       "    <tr>\n",
       "      <th>1</th>\n",
       "      <td>键盘按键次数</td>\n",
       "      <td>M-CAT</td>\n",
       "      <td>0.897540</td>\n",
       "      <td>0.031362</td>\n",
       "      <td>拒绝</td>\n",
       "    </tr>\n",
       "    <tr>\n",
       "      <th>0</th>\n",
       "      <td>任务时长</td>\n",
       "      <td>WIMP</td>\n",
       "      <td>0.955105</td>\n",
       "      <td>0.423498</td>\n",
       "      <td>通过</td>\n",
       "    </tr>\n",
       "    <tr>\n",
       "      <th>1</th>\n",
       "      <td>任务时长</td>\n",
       "      <td>M-CAT</td>\n",
       "      <td>0.936615</td>\n",
       "      <td>0.186665</td>\n",
       "      <td>通过</td>\n",
       "    </tr>\n",
       "    <tr>\n",
       "      <th>0</th>\n",
       "      <td>操作成本</td>\n",
       "      <td>WIMP</td>\n",
       "      <td>0.926879</td>\n",
       "      <td>0.119174</td>\n",
       "      <td>通过</td>\n",
       "    </tr>\n",
       "    <tr>\n",
       "      <th>1</th>\n",
       "      <td>操作成本</td>\n",
       "      <td>M-CAT</td>\n",
       "      <td>0.897209</td>\n",
       "      <td>0.030905</td>\n",
       "      <td>拒绝</td>\n",
       "    </tr>\n",
       "  </tbody>\n",
       "</table>\n",
       "</div>"
      ],
      "text/plain": [
       "     样本数据    任务组       W 值       p 值 通过检验\n",
       "0  鼠标移动距离   WIMP  0.932694  0.155871   通过\n",
       "1  鼠标移动距离  M-CAT  0.852645  0.004719   拒绝\n",
       "0  鼠标点击次数   WIMP  0.946222  0.288435   通过\n",
       "1  鼠标点击次数  M-CAT  0.770968  0.000244   拒绝\n",
       "0  键盘按键次数   WIMP  0.947406  0.304001   通过\n",
       "1  键盘按键次数  M-CAT  0.897540  0.031362   拒绝\n",
       "0    任务时长   WIMP  0.955105  0.423498   通过\n",
       "1    任务时长  M-CAT  0.936615  0.186665   通过\n",
       "0    操作成本   WIMP  0.926879  0.119174   通过\n",
       "1    操作成本  M-CAT  0.897209  0.030905   拒绝"
      ]
     },
     "execution_count": 7,
     "metadata": {},
     "output_type": "execute_result"
    }
   ],
   "source": [
    "def shapiro_wilk(df: pd.DataFrame ,column: str):\n",
    "    round_0_res =  stats.shapiro(df[column][df['task_round'] == 0])\n",
    "    round_1_res =  stats.shapiro(df[column][df['task_round'] == 1])\n",
    "    return pd.DataFrame.from_records([{'样本数据': column, 'task_round': 0, 'W': round_0_res[0], 'p': round_0_res[1]}, {'样本数据': column, 'task_round': 1, 'W': round_1_res[0], 'p': round_1_res[1]}])\n",
    "res = pd.DataFrame(columns=['样本数据', 'task_round', 'W', 'p'])\n",
    "for column in stat.columns.drop([\"subject_id\", \"task_round\"]):\n",
    "    res = pd.concat([res, shapiro_wilk(stat, column)])\n",
    "\n",
    "\n",
    "res[\"样本数据\"] = res[\"样本数据\"].map({\"mouse_distance\": \"鼠标移动距离\", \"mouse_click\": \"鼠标点击次数\", \"keyboard_press\": \"键盘按键次数\", \"duration\": \"任务时长\", \"cost\": \"操作成本\"})\n",
    "res[\"task_round\"] = res[\"task_round\"].map({0: \"WIMP\", 1: \"M-CAT\"})\n",
    "res.rename(columns={\"W\": \"W 值\", \"p\": \"p 值\", \"task_round\": \"任务组\", \"样本数据\": \"样本数据\"}, inplace=True)\n",
    "\n",
    "res = res.assign(通过检验 = lambda x: x[\"p 值\"] > 0.05 )\n",
    "res[\"通过检验\"] = res[\"通过检验\"].map({True: \"通过\", False: \"拒绝\"})\n",
    "\n",
    "res.to_csv(\"./stat_shapiro_wilk.csv\", index=False, float_format='%.4f')\n",
    "res"
   ]
  },
  {
   "cell_type": "code",
   "execution_count": 8,
   "metadata": {},
   "outputs": [
    {
     "data": {
      "text/plain": [
       "ShapiroResult(statistic=0.9326943159103394, pvalue=0.15587051212787628)"
      ]
     },
     "execution_count": 8,
     "metadata": {},
     "output_type": "execute_result"
    }
   ],
   "source": [
    "stats.shapiro(stat[\"mouse_distance\"][stat['task_round'] == 0])"
   ]
  },
  {
   "attachments": {},
   "cell_type": "markdown",
   "metadata": {},
   "source": [
    "## 交互数据组内方差齐性检验"
   ]
  },
  {
   "cell_type": "code",
   "execution_count": 9,
   "metadata": {},
   "outputs": [],
   "source": [
    "def levene(df: pd.DataFrame ,column: str):\n",
    "    return stats.levene(df[column][df['task_round'] == 0], df[column][df['task_round'] == 1])"
   ]
  },
  {
   "cell_type": "code",
   "execution_count": 10,
   "metadata": {},
   "outputs": [],
   "source": [
    "stat_levene_res = pd.DataFrame(columns=['样本数据', 'F', 'p'])\n",
    "for column in stat.columns.drop([\"subject_id\", \"task_round\"]):\n",
    "    F, p = levene(stat, column)\n",
    "    stat_levene_res = pd.concat([stat_levene_res, pd.DataFrame.from_records([{'样本数据': column, 'F': F, 'p': p}])])\n",
    "stat_levene_res = stat_levene_res.assign(通过检验 = lambda x: x[\"p\"] > 0.05 )"
   ]
  },
  {
   "cell_type": "code",
   "execution_count": 11,
   "metadata": {},
   "outputs": [
    {
     "data": {
      "text/html": [
       "<div>\n",
       "<style scoped>\n",
       "    .dataframe tbody tr th:only-of-type {\n",
       "        vertical-align: middle;\n",
       "    }\n",
       "\n",
       "    .dataframe tbody tr th {\n",
       "        vertical-align: top;\n",
       "    }\n",
       "\n",
       "    .dataframe thead th {\n",
       "        text-align: right;\n",
       "    }\n",
       "</style>\n",
       "<table border=\"1\" class=\"dataframe\">\n",
       "  <thead>\n",
       "    <tr style=\"text-align: right;\">\n",
       "      <th></th>\n",
       "      <th>样本数据</th>\n",
       "      <th>F</th>\n",
       "      <th>p</th>\n",
       "      <th>通过检验</th>\n",
       "    </tr>\n",
       "  </thead>\n",
       "  <tbody>\n",
       "    <tr>\n",
       "      <th>0</th>\n",
       "      <td>鼠标移动距离</td>\n",
       "      <td>34.090</td>\n",
       "      <td>0.00000</td>\n",
       "      <td>拒绝</td>\n",
       "    </tr>\n",
       "    <tr>\n",
       "      <th>0</th>\n",
       "      <td>鼠标点击次数</td>\n",
       "      <td>17.161</td>\n",
       "      <td>0.00017</td>\n",
       "      <td>拒绝</td>\n",
       "    </tr>\n",
       "    <tr>\n",
       "      <th>0</th>\n",
       "      <td>键盘按键次数</td>\n",
       "      <td>7.549</td>\n",
       "      <td>0.00896</td>\n",
       "      <td>拒绝</td>\n",
       "    </tr>\n",
       "    <tr>\n",
       "      <th>0</th>\n",
       "      <td>任务时长</td>\n",
       "      <td>1.683</td>\n",
       "      <td>0.20196</td>\n",
       "      <td>通过</td>\n",
       "    </tr>\n",
       "    <tr>\n",
       "      <th>0</th>\n",
       "      <td>操作成本</td>\n",
       "      <td>0.291</td>\n",
       "      <td>0.59248</td>\n",
       "      <td>通过</td>\n",
       "    </tr>\n",
       "  </tbody>\n",
       "</table>\n",
       "</div>"
      ],
      "text/plain": [
       "     样本数据       F        p 通过检验\n",
       "0  鼠标移动距离  34.090  0.00000   拒绝\n",
       "0  鼠标点击次数  17.161  0.00017   拒绝\n",
       "0  键盘按键次数   7.549  0.00896   拒绝\n",
       "0    任务时长   1.683  0.20196   通过\n",
       "0    操作成本   0.291  0.59248   通过"
      ]
     },
     "execution_count": 11,
     "metadata": {},
     "output_type": "execute_result"
    }
   ],
   "source": [
    "stat_levene_res[\"样本数据\"] = stat_levene_res[\"样本数据\"].map({\"mouse_distance\": \"鼠标移动距离\", \"mouse_click\": \"鼠标点击次数\", \"keyboard_press\": \"键盘按键次数\", \"duration\": \"任务时长\", \"cost\": \"操作成本\"})\n",
    "stat_levene_res[\"F\"] =stat_levene_res[\"F\"].apply('{:.3f}'.format)\n",
    "stat_levene_res[\"p\"] =stat_levene_res[\"p\"].apply('{:.5f}'.format)\n",
    "stat_levene_res[\"通过检验\"] = stat_levene_res[\"通过检验\"].map({True: \"通过\", False: \"拒绝\"})\n",
    "stat_levene_res.to_csv(\"./stat_levene.csv\", index=False)\n",
    "stat_levene_res"
   ]
  },
  {
   "attachments": {},
   "cell_type": "markdown",
   "metadata": {},
   "source": [
    "## 交互数据组间差异检验\n",
    "\n",
    "由于鼠标移动距离有一组样本未通过正态性检验，将联合采用 Welch’s t\n",
    "检验和 Kruskal-Wallis 单因素方差分析综合分析。Welch’s t 检验是一种参数检验方法，用对比较均值差异，但 Welch’s t 也支持近似正态分布的检验，但结果可能不够准确。Kruskal-Wallis 单因素方差分析是一种非参数检验方法，用于检验样本间中位数差异，不要求总体分布参数。\n",
    "\n",
    "鼠标点击次数和键盘按键次数通过了正态性检验，但未通过方差齐性检验，因此采用 Welch’s t 检验。Welch’s t 检验不要求样本间方差相同。\n",
    "\n",
    "任务时间和操作成本通过了正态性检验和方差齐性检验，使用 ANOVA 单因素方差分析进行检验。"
   ]
  },
  {
   "attachments": {},
   "cell_type": "markdown",
   "metadata": {},
   "source": [
    "### 鼠标移动距离（Wt 和 KW）"
   ]
  },
  {
   "cell_type": "code",
   "execution_count": 12,
   "metadata": {},
   "outputs": [],
   "source": [
    "mouse_distance_0 = stat[\"mouse_distance\"][stat['task_round'] == 0]\n",
    "mouse_distance_1 = stat[\"mouse_distance\"][stat['task_round'] == 1]"
   ]
  },
  {
   "cell_type": "code",
   "execution_count": 13,
   "metadata": {},
   "outputs": [
    {
     "name": "stdout",
     "output_type": "stream",
     "text": [
      "鼠标移动距离的 t 检验结果为：t=13.065, p=7.175e-12\n",
      "鼠标移动距离的 Kruskal 检验结果为：H=30.767, p=2.909e-08\n"
     ]
    }
   ],
   "source": [
    "mouse_distance_t, mouse_distance_p_0 =stats.ttest_ind(mouse_distance_0, mouse_distance_1, equal_var=False)\n",
    "mouse_distance_H, mouse_distance_p_1 = stats.kruskal(mouse_distance_0, mouse_distance_1)\n",
    "print(f\"鼠标移动距离的 t 检验结果为：t={mouse_distance_t:.3f}, p={mouse_distance_p_0:.3e}\")\n",
    "print(f\"鼠标移动距离的 Kruskal 检验结果为：H={mouse_distance_H:.3f}, p={mouse_distance_p_1:.3e}\")"
   ]
  },
  {
   "attachments": {},
   "cell_type": "markdown",
   "metadata": {},
   "source": [
    "### 鼠标点击次数 键盘击键次数（Wt）"
   ]
  },
  {
   "cell_type": "code",
   "execution_count": 14,
   "metadata": {},
   "outputs": [
    {
     "name": "stdout",
     "output_type": "stream",
     "text": [
      "鼠标击键次数的 t 检验结果为：t=20.076, p=2.591e-15\n"
     ]
    }
   ],
   "source": [
    "mouse_click_t, mouse_click_p = stats.ttest_ind(stat[\"mouse_click\"][stat['task_round'] == 0], stat[\"mouse_click\"][stat['task_round'] == 1], equal_var=False)\n",
    "print(f\"鼠标击键次数的 t 检验结果为：t={mouse_click_t:.3f}, p={mouse_click_p:.3e}\")"
   ]
  },
  {
   "cell_type": "code",
   "execution_count": 15,
   "metadata": {},
   "outputs": [
    {
     "name": "stdout",
     "output_type": "stream",
     "text": [
      "键盘按键次数的 t 检验结果为：t=-6.768, p=7.372e-07\n"
     ]
    }
   ],
   "source": [
    "keyboard_press_t, keyboard_press_p = stats.ttest_ind(stat[\"keyboard_press\"][stat['task_round'] == 0], stat[\"keyboard_press\"][stat['task_round'] == 1], equal_var=False)\n",
    "print(f\"键盘按键次数的 t 检验结果为：t={keyboard_press_t:.3f}, p={keyboard_press_p:.3e}\")"
   ]
  },
  {
   "attachments": {},
   "cell_type": "markdown",
   "metadata": {},
   "source": [
    "### 任务时间（ANOVA）"
   ]
  },
  {
   "cell_type": "code",
   "execution_count": 16,
   "metadata": {},
   "outputs": [
    {
     "name": "stdout",
     "output_type": "stream",
     "text": [
      "任务时长的 ANOVA 检验结果为：~$t = 52.588, p = 8.386e-09$~\n"
     ]
    }
   ],
   "source": [
    "F, p = stats.f_oneway(stat[\"duration\"][stat['task_round'] == 0], stat[\"duration\"][stat['task_round'] == 1])\n",
    "print(f\"任务时长的 ANOVA 检验结果为：~$t = {F:.3f}, p = {p:.3e}$~\")"
   ]
  },
  {
   "attachments": {},
   "cell_type": "markdown",
   "metadata": {},
   "source": [
    "### 操作成本"
   ]
  },
  {
   "cell_type": "code",
   "execution_count": 17,
   "metadata": {},
   "outputs": [
    {
     "name": "stdout",
     "output_type": "stream",
     "text": [
      "操作成本的 ANOVA 检验结果为：~$t = 52.588, p = 8.386e-09$~\n"
     ]
    }
   ],
   "source": [
    "F_cost, p_cost = stats.f_oneway(stat[\"cost\"][stat['task_round'] == 0], stat[\"cost\"][stat['task_round'] == 1])\n",
    "print(f\"操作成本的 ANOVA 检验结果为：~$t = {F:.3f}, p = {p:.3e}$~\")"
   ]
  },
  {
   "cell_type": "code",
   "execution_count": 31,
   "metadata": {},
   "outputs": [
    {
     "name": "stdout",
     "output_type": "stream",
     "text": [
      "操作成本 t 检验结果为 t=2.2262097359392756，p=0.03262617100453932\n",
      "操作成本的 Kruskal-Wallis 检验结果为 H=6.778832463217839，p=0.009224520892150635\n"
     ]
    }
   ],
   "source": [
    "cost_t, cost_p_0 = stats.ttest_ind(stat[\"cost\"][stat['task_round'] == 0], stat[\"cost\"][stat['task_round'] == 1], equal_var=False)\n",
    "print(f\"操作成本 t 检验结果为 t={cost_t}，p={cost_p_0}\")\n",
    "cost_H, cost_p_1 = stats.kruskal(stat[\"cost\"][stat['task_round'] == 0], stat[\"cost\"][stat['task_round'] == 1])\n",
    "print(f\"操作成本的 Kruskal-Wallis 检验结果为 H={cost_H}，p={cost_p_1}\")"
   ]
  },
  {
   "attachments": {},
   "cell_type": "markdown",
   "metadata": {},
   "source": [
    "### 汇总结果"
   ]
  },
  {
   "cell_type": "code",
   "execution_count": 18,
   "metadata": {},
   "outputs": [
    {
     "data": {
      "text/html": [
       "<div>\n",
       "<style scoped>\n",
       "    .dataframe tbody tr th:only-of-type {\n",
       "        vertical-align: middle;\n",
       "    }\n",
       "\n",
       "    .dataframe tbody tr th {\n",
       "        vertical-align: top;\n",
       "    }\n",
       "\n",
       "    .dataframe thead th {\n",
       "        text-align: right;\n",
       "    }\n",
       "</style>\n",
       "<table border=\"1\" class=\"dataframe\">\n",
       "  <thead>\n",
       "    <tr style=\"text-align: right;\">\n",
       "      <th></th>\n",
       "      <th>样本数据</th>\n",
       "      <th>检验方法</th>\n",
       "      <th>统计量</th>\n",
       "      <th>值</th>\n",
       "      <th>p</th>\n",
       "      <th>通过（p&lt;0.05）</th>\n",
       "    </tr>\n",
       "  </thead>\n",
       "  <tbody>\n",
       "    <tr>\n",
       "      <th>0</th>\n",
       "      <td>鼠标移动距离</td>\n",
       "      <td>Welch's t</td>\n",
       "      <td>t</td>\n",
       "      <td>13.065</td>\n",
       "      <td>7.175e-12</td>\n",
       "      <td>通过</td>\n",
       "    </tr>\n",
       "    <tr>\n",
       "      <th>1</th>\n",
       "      <td>鼠标移动距离</td>\n",
       "      <td>Kruskal-Wallis</td>\n",
       "      <td>H</td>\n",
       "      <td>30.767</td>\n",
       "      <td>2.909e-08</td>\n",
       "      <td>通过</td>\n",
       "    </tr>\n",
       "    <tr>\n",
       "      <th>2</th>\n",
       "      <td>鼠标点击次数</td>\n",
       "      <td>Welch's t</td>\n",
       "      <td>t</td>\n",
       "      <td>20.076</td>\n",
       "      <td>2.591e-15</td>\n",
       "      <td>通过</td>\n",
       "    </tr>\n",
       "    <tr>\n",
       "      <th>3</th>\n",
       "      <td>键盘按键次数</td>\n",
       "      <td>Welch's t</td>\n",
       "      <td>t</td>\n",
       "      <td>-6.768</td>\n",
       "      <td>7.372e-07</td>\n",
       "      <td>通过</td>\n",
       "    </tr>\n",
       "    <tr>\n",
       "      <th>4</th>\n",
       "      <td>任务时长</td>\n",
       "      <td>ANOVA</td>\n",
       "      <td>F</td>\n",
       "      <td>52.588</td>\n",
       "      <td>8.386e-09</td>\n",
       "      <td>通过</td>\n",
       "    </tr>\n",
       "    <tr>\n",
       "      <th>5</th>\n",
       "      <td>操作成本</td>\n",
       "      <td>ANOVA</td>\n",
       "      <td>F</td>\n",
       "      <td>4.956</td>\n",
       "      <td>3.170e-02</td>\n",
       "      <td>通过</td>\n",
       "    </tr>\n",
       "  </tbody>\n",
       "</table>\n",
       "</div>"
      ],
      "text/plain": [
       "     样本数据            检验方法 统计量       值          p 通过（p<0.05）\n",
       "0  鼠标移动距离       Welch's t   t  13.065  7.175e-12         通过\n",
       "1  鼠标移动距离  Kruskal-Wallis   H  30.767  2.909e-08         通过\n",
       "2  鼠标点击次数       Welch's t   t  20.076  2.591e-15         通过\n",
       "3  键盘按键次数       Welch's t   t  -6.768  7.372e-07         通过\n",
       "4    任务时长           ANOVA   F  52.588  8.386e-09         通过\n",
       "5    操作成本           ANOVA   F   4.956  3.170e-02         通过"
      ]
     },
     "execution_count": 18,
     "metadata": {},
     "output_type": "execute_result"
    }
   ],
   "source": [
    "res = pd.DataFrame(columns=['样本数据','检验方法', '统计量','值', 'p'])\n",
    "res.loc[0] = [\"鼠标移动距离\", \"Welch's t\",\"t\", mouse_distance_t, mouse_distance_p_0]\n",
    "res.loc[1] = [\"鼠标移动距离\", \"Kruskal-Wallis\",\"H\", mouse_distance_H, mouse_distance_p_1]\n",
    "res.loc[2] = [\"鼠标点击次数\", \"Welch's t\",\"t\", mouse_click_t, mouse_click_p]\n",
    "res.loc[3] = [\"键盘按键次数\", \"Welch's t\",\"t\", keyboard_press_t, keyboard_press_p]\n",
    "res.loc[4] = [\"任务时长\", \"ANOVA\",\"F\", F, p]\n",
    "res.loc[5] = [\"操作成本\", \"ANOVA\",\"F\", F_cost, p_cost]\n",
    "res = res.assign(pas=\"通过\")\n",
    "res[\"p\"] = res[\"p\"].apply('{:.3e}'.format)\n",
    "res[\"值\"] = res[\"值\"].apply('{:.3f}'.format)\n",
    "res = res.rename({\"pas\": \"通过（p<0.05）\"}, axis=1)\n",
    "res.to_csv(\"stat_result.csv\", index=False, float_format='%.3f')\n",
    "res\n"
   ]
  },
  {
   "cell_type": "markdown",
   "metadata": {},
   "source": []
  },
  {
   "cell_type": "code",
   "execution_count": null,
   "metadata": {},
   "outputs": [],
   "source": []
  },
  {
   "attachments": {},
   "cell_type": "markdown",
   "metadata": {},
   "source": [
    "# 量表数据"
   ]
  },
  {
   "attachments": {},
   "cell_type": "markdown",
   "metadata": {},
   "source": [
    "## 量表数据正态性检验"
   ]
  },
  {
   "cell_type": "code",
   "execution_count": 19,
   "metadata": {},
   "outputs": [
    {
     "data": {
      "text/html": [
       "<div>\n",
       "<style scoped>\n",
       "    .dataframe tbody tr th:only-of-type {\n",
       "        vertical-align: middle;\n",
       "    }\n",
       "\n",
       "    .dataframe tbody tr th {\n",
       "        vertical-align: top;\n",
       "    }\n",
       "\n",
       "    .dataframe thead th {\n",
       "        text-align: right;\n",
       "    }\n",
       "</style>\n",
       "<table border=\"1\" class=\"dataframe\">\n",
       "  <thead>\n",
       "    <tr style=\"text-align: right;\">\n",
       "      <th></th>\n",
       "      <th>subject_id</th>\n",
       "      <th>task_round</th>\n",
       "      <th>sus</th>\n",
       "      <th>effect</th>\n",
       "      <th>easy</th>\n",
       "      <th>easy_learn</th>\n",
       "      <th>satisfaction</th>\n",
       "    </tr>\n",
       "  </thead>\n",
       "  <tbody>\n",
       "    <tr>\n",
       "      <th>0</th>\n",
       "      <td>202</td>\n",
       "      <td>1</td>\n",
       "      <td>77.5</td>\n",
       "      <td>52.6</td>\n",
       "      <td>64.6</td>\n",
       "      <td>26.6</td>\n",
       "      <td>45</td>\n",
       "    </tr>\n",
       "    <tr>\n",
       "      <th>1</th>\n",
       "      <td>202</td>\n",
       "      <td>0</td>\n",
       "      <td>85.0</td>\n",
       "      <td>51.6</td>\n",
       "      <td>61.4</td>\n",
       "      <td>24.8</td>\n",
       "      <td>44</td>\n",
       "    </tr>\n",
       "    <tr>\n",
       "      <th>2</th>\n",
       "      <td>206</td>\n",
       "      <td>1</td>\n",
       "      <td>57.5</td>\n",
       "      <td>49.6</td>\n",
       "      <td>58.8</td>\n",
       "      <td>24.0</td>\n",
       "      <td>48</td>\n",
       "    </tr>\n",
       "    <tr>\n",
       "      <th>3</th>\n",
       "      <td>206</td>\n",
       "      <td>0</td>\n",
       "      <td>55.0</td>\n",
       "      <td>43.0</td>\n",
       "      <td>50.8</td>\n",
       "      <td>19.2</td>\n",
       "      <td>34</td>\n",
       "    </tr>\n",
       "    <tr>\n",
       "      <th>4</th>\n",
       "      <td>205</td>\n",
       "      <td>1</td>\n",
       "      <td>60.0</td>\n",
       "      <td>48.8</td>\n",
       "      <td>64.0</td>\n",
       "      <td>26.6</td>\n",
       "      <td>49</td>\n",
       "    </tr>\n",
       "  </tbody>\n",
       "</table>\n",
       "</div>"
      ],
      "text/plain": [
       "   subject_id  task_round   sus  effect  easy  easy_learn  satisfaction\n",
       "0         202           1  77.5    52.6  64.6        26.6            45\n",
       "1         202           0  85.0    51.6  61.4        24.8            44\n",
       "2         206           1  57.5    49.6  58.8        24.0            48\n",
       "3         206           0  55.0    43.0  50.8        19.2            34\n",
       "4         205           1  60.0    48.8  64.0        26.6            49"
      ]
     },
     "execution_count": 19,
     "metadata": {},
     "output_type": "execute_result"
    }
   ],
   "source": [
    "scale = pd.read_csv(\"./scale_origin.csv\")\n",
    "scale.head()"
   ]
  },
  {
   "cell_type": "code",
   "execution_count": 20,
   "metadata": {},
   "outputs": [
    {
     "data": {
      "text/html": [
       "<div>\n",
       "<style scoped>\n",
       "    .dataframe tbody tr th:only-of-type {\n",
       "        vertical-align: middle;\n",
       "    }\n",
       "\n",
       "    .dataframe tbody tr th {\n",
       "        vertical-align: top;\n",
       "    }\n",
       "\n",
       "    .dataframe thead th {\n",
       "        text-align: right;\n",
       "    }\n",
       "</style>\n",
       "<table border=\"1\" class=\"dataframe\">\n",
       "  <thead>\n",
       "    <tr style=\"text-align: right;\">\n",
       "      <th></th>\n",
       "      <th>样本数据</th>\n",
       "      <th>任务组</th>\n",
       "      <th>W</th>\n",
       "      <th>p</th>\n",
       "      <th>通过检验</th>\n",
       "    </tr>\n",
       "  </thead>\n",
       "  <tbody>\n",
       "    <tr>\n",
       "      <th>0</th>\n",
       "      <td>SUS 评分</td>\n",
       "      <td>WIMP</td>\n",
       "      <td>0.965217</td>\n",
       "      <td>0.626644</td>\n",
       "      <td>通过</td>\n",
       "    </tr>\n",
       "    <tr>\n",
       "      <th>1</th>\n",
       "      <td>SUS 评分</td>\n",
       "      <td>M-CAT</td>\n",
       "      <td>0.950176</td>\n",
       "      <td>0.343267</td>\n",
       "      <td>通过</td>\n",
       "    </tr>\n",
       "    <tr>\n",
       "      <th>0</th>\n",
       "      <td>USE 有效性评分</td>\n",
       "      <td>WIMP</td>\n",
       "      <td>0.975870</td>\n",
       "      <td>0.855925</td>\n",
       "      <td>通过</td>\n",
       "    </tr>\n",
       "    <tr>\n",
       "      <th>1</th>\n",
       "      <td>USE 有效性评分</td>\n",
       "      <td>M-CAT</td>\n",
       "      <td>0.904460</td>\n",
       "      <td>0.042738</td>\n",
       "      <td>拒绝</td>\n",
       "    </tr>\n",
       "    <tr>\n",
       "      <th>0</th>\n",
       "      <td>USE 易用性</td>\n",
       "      <td>WIMP</td>\n",
       "      <td>0.949970</td>\n",
       "      <td>0.340198</td>\n",
       "      <td>通过</td>\n",
       "    </tr>\n",
       "    <tr>\n",
       "      <th>1</th>\n",
       "      <td>USE 易用性</td>\n",
       "      <td>M-CAT</td>\n",
       "      <td>0.903726</td>\n",
       "      <td>0.041349</td>\n",
       "      <td>拒绝</td>\n",
       "    </tr>\n",
       "    <tr>\n",
       "      <th>0</th>\n",
       "      <td>USE 易学性评分</td>\n",
       "      <td>WIMP</td>\n",
       "      <td>0.965883</td>\n",
       "      <td>0.641343</td>\n",
       "      <td>通过</td>\n",
       "    </tr>\n",
       "    <tr>\n",
       "      <th>1</th>\n",
       "      <td>USE 易学性评分</td>\n",
       "      <td>M-CAT</td>\n",
       "      <td>0.748586</td>\n",
       "      <td>0.000119</td>\n",
       "      <td>拒绝</td>\n",
       "    </tr>\n",
       "    <tr>\n",
       "      <th>0</th>\n",
       "      <td>USE 满意度评分</td>\n",
       "      <td>WIMP</td>\n",
       "      <td>0.906416</td>\n",
       "      <td>0.046680</td>\n",
       "      <td>拒绝</td>\n",
       "    </tr>\n",
       "    <tr>\n",
       "      <th>1</th>\n",
       "      <td>USE 满意度评分</td>\n",
       "      <td>M-CAT</td>\n",
       "      <td>0.804174</td>\n",
       "      <td>0.000760</td>\n",
       "      <td>拒绝</td>\n",
       "    </tr>\n",
       "  </tbody>\n",
       "</table>\n",
       "</div>"
      ],
      "text/plain": [
       "        样本数据    任务组         W         p 通过检验\n",
       "0     SUS 评分   WIMP  0.965217  0.626644   通过\n",
       "1     SUS 评分  M-CAT  0.950176  0.343267   通过\n",
       "0  USE 有效性评分   WIMP  0.975870  0.855925   通过\n",
       "1  USE 有效性评分  M-CAT  0.904460  0.042738   拒绝\n",
       "0    USE 易用性   WIMP  0.949970  0.340198   通过\n",
       "1    USE 易用性  M-CAT  0.903726  0.041349   拒绝\n",
       "0  USE 易学性评分   WIMP  0.965883  0.641343   通过\n",
       "1  USE 易学性评分  M-CAT  0.748586  0.000119   拒绝\n",
       "0  USE 满意度评分   WIMP  0.906416  0.046680   拒绝\n",
       "1  USE 满意度评分  M-CAT  0.804174  0.000760   拒绝"
      ]
     },
     "execution_count": 20,
     "metadata": {},
     "output_type": "execute_result"
    }
   ],
   "source": [
    "res = pd.DataFrame(columns=['样本数据', 'task_round', 'W', 'p'])\n",
    "for column in scale.columns.drop([\"subject_id\", \"task_round\"]):\n",
    "    res = pd.concat([res, shapiro_wilk(scale, column)])\n",
    "res = res.assign(通过检验 = lambda x: x[\"p\"] > 0.05 )\n",
    "res[\"task_round\"] = res[\"task_round\"].map({0: \"WIMP\", 1: \"M-CAT\"})\n",
    "res[\"通过检验\"] = res[\"通过检验\"].map({True: \"通过\", False: \"拒绝\"})\n",
    "res.rename(columns={\"task_round\": \"任务组\"}, inplace=True)\n",
    "\n",
    "res[\"样本数据\"] = res[\"样本数据\"].map({\"sus\": \"SUS 评分\", \"effect\": \"USE 有效性评分\", \"easy\": \"USE 易用性\", \"easy_learn\": \"USE 易学性评分\", \"satisfaction\": \"USE 满意度评分\", \"mouse_distance\": \"鼠标移动距离\", \"mouse_click\": \"鼠标点击次数\", \"keyboard_press\": \"键盘按键次数\", \"duration\": \"任务时长\"})\n",
    "res.to_csv(\"./scale_shapiro_wilk.csv\", index=False, float_format='%.4f')\n",
    "res"
   ]
  },
  {
   "attachments": {},
   "cell_type": "markdown",
   "metadata": {},
   "source": [
    "## 量表数据组间方差齐性检验"
   ]
  },
  {
   "cell_type": "code",
   "execution_count": 21,
   "metadata": {},
   "outputs": [],
   "source": [
    "res = pd.DataFrame(columns=['样本数据', 'F', 'p'])\n",
    "for column in scale.columns.drop([\"subject_id\", \"task_round\"]):\n",
    "    F, p = levene(scale, column)\n",
    "    res = pd.concat([res, pd.DataFrame({'样本数据': column, 'F': F, 'p': p}, index=[0])])\n",
    "res = res.assign(通过检验 = lambda x: x[\"p\"] > 0.05 )\n",
    "\n",
    "res[\"通过检验\"] = res[\"通过检验\"].map({True: \"通过\", False: \"拒绝\"})\n",
    "res[\"样本数据\"] = res[\"样本数据\"].map({\"sus\": \"SUS 评分\", \"effect\": \"USE 有效性评分\", \"easy\": \"USE 易用性\", \"easy_learn\": \"USE 易学性评分\", \"satisfaction\": \"USE 满意度评分\", \"mouse_distance\": \"鼠标移动距离\", \"mouse_click\": \"鼠标点击次数\", \"keyboard_press\": \"键盘按键次数\", \"duration\": \"任务时长\"})\n",
    "res.to_csv(\"./scale_levene.csv\", index=False, float_format='%.4f')"
   ]
  },
  {
   "cell_type": "code",
   "execution_count": 22,
   "metadata": {},
   "outputs": [
    {
     "data": {
      "text/html": [
       "<div>\n",
       "<style scoped>\n",
       "    .dataframe tbody tr th:only-of-type {\n",
       "        vertical-align: middle;\n",
       "    }\n",
       "\n",
       "    .dataframe tbody tr th {\n",
       "        vertical-align: top;\n",
       "    }\n",
       "\n",
       "    .dataframe thead th {\n",
       "        text-align: right;\n",
       "    }\n",
       "</style>\n",
       "<table border=\"1\" class=\"dataframe\">\n",
       "  <thead>\n",
       "    <tr style=\"text-align: right;\">\n",
       "      <th></th>\n",
       "      <th>样本数据</th>\n",
       "      <th>F</th>\n",
       "      <th>p</th>\n",
       "      <th>通过检验</th>\n",
       "    </tr>\n",
       "  </thead>\n",
       "  <tbody>\n",
       "    <tr>\n",
       "      <th>0</th>\n",
       "      <td>SUS 评分</td>\n",
       "      <td>1.636567</td>\n",
       "      <td>2.081685e-01</td>\n",
       "      <td>通过</td>\n",
       "    </tr>\n",
       "    <tr>\n",
       "      <th>0</th>\n",
       "      <td>USE 有效性评分</td>\n",
       "      <td>9.065960</td>\n",
       "      <td>4.496234e-03</td>\n",
       "      <td>拒绝</td>\n",
       "    </tr>\n",
       "    <tr>\n",
       "      <th>0</th>\n",
       "      <td>USE 易用性</td>\n",
       "      <td>16.599755</td>\n",
       "      <td>2.124592e-04</td>\n",
       "      <td>拒绝</td>\n",
       "    </tr>\n",
       "    <tr>\n",
       "      <th>0</th>\n",
       "      <td>USE 易学性评分</td>\n",
       "      <td>19.009078</td>\n",
       "      <td>8.858726e-05</td>\n",
       "      <td>拒绝</td>\n",
       "    </tr>\n",
       "    <tr>\n",
       "      <th>0</th>\n",
       "      <td>USE 满意度评分</td>\n",
       "      <td>35.010083</td>\n",
       "      <td>6.184897e-07</td>\n",
       "      <td>拒绝</td>\n",
       "    </tr>\n",
       "  </tbody>\n",
       "</table>\n",
       "</div>"
      ],
      "text/plain": [
       "        样本数据          F             p 通过检验\n",
       "0     SUS 评分   1.636567  2.081685e-01   通过\n",
       "0  USE 有效性评分   9.065960  4.496234e-03   拒绝\n",
       "0    USE 易用性  16.599755  2.124592e-04   拒绝\n",
       "0  USE 易学性评分  19.009078  8.858726e-05   拒绝\n",
       "0  USE 满意度评分  35.010083  6.184897e-07   拒绝"
      ]
     },
     "execution_count": 22,
     "metadata": {},
     "output_type": "execute_result"
    }
   ],
   "source": [
    "res"
   ]
  },
  {
   "cell_type": "code",
   "execution_count": null,
   "metadata": {},
   "outputs": [],
   "source": []
  },
  {
   "attachments": {},
   "cell_type": "markdown",
   "metadata": {},
   "source": [
    "## 量表数据推论统计\n",
    "\n",
    "SUS 评分和 USE 易用性评分通过了正态性检验和方差齐性检验，使用 ANOVA 单因素方差分析检验均值差异。取显著性水平为 $\\alpha = 0.05$，在 $p > 0.05$ 时通过检验。\n",
    "\n",
    "USE 有效性、易学性和满意度均未通过正态性检验和方差齐性检验，联合采用 Welch’s t 检验和 Kruskal-Wallis 单因素方差分析综合分析组内差异。取显著性水平为 $\\alpha = 0.05$，在 $p > 0.05$ 时通过检验。"
   ]
  },
  {
   "attachments": {},
   "cell_type": "markdown",
   "metadata": {},
   "source": [
    "### SUS 和 USE 易用性（ANOVA）"
   ]
  },
  {
   "cell_type": "code",
   "execution_count": 23,
   "metadata": {},
   "outputs": [
    {
     "data": {
      "text/html": [
       "<div>\n",
       "<style scoped>\n",
       "    .dataframe tbody tr th:only-of-type {\n",
       "        vertical-align: middle;\n",
       "    }\n",
       "\n",
       "    .dataframe tbody tr th {\n",
       "        vertical-align: top;\n",
       "    }\n",
       "\n",
       "    .dataframe thead th {\n",
       "        text-align: right;\n",
       "    }\n",
       "</style>\n",
       "<table border=\"1\" class=\"dataframe\">\n",
       "  <thead>\n",
       "    <tr style=\"text-align: right;\">\n",
       "      <th></th>\n",
       "      <th>subject_id</th>\n",
       "      <th>task_round</th>\n",
       "      <th>sus</th>\n",
       "      <th>effect</th>\n",
       "      <th>easy</th>\n",
       "      <th>easy_learn</th>\n",
       "      <th>satisfaction</th>\n",
       "    </tr>\n",
       "  </thead>\n",
       "  <tbody>\n",
       "    <tr>\n",
       "      <th>0</th>\n",
       "      <td>202</td>\n",
       "      <td>1</td>\n",
       "      <td>77.5</td>\n",
       "      <td>52.6</td>\n",
       "      <td>64.6</td>\n",
       "      <td>26.6</td>\n",
       "      <td>45</td>\n",
       "    </tr>\n",
       "    <tr>\n",
       "      <th>1</th>\n",
       "      <td>202</td>\n",
       "      <td>0</td>\n",
       "      <td>85.0</td>\n",
       "      <td>51.6</td>\n",
       "      <td>61.4</td>\n",
       "      <td>24.8</td>\n",
       "      <td>44</td>\n",
       "    </tr>\n",
       "    <tr>\n",
       "      <th>2</th>\n",
       "      <td>206</td>\n",
       "      <td>1</td>\n",
       "      <td>57.5</td>\n",
       "      <td>49.6</td>\n",
       "      <td>58.8</td>\n",
       "      <td>24.0</td>\n",
       "      <td>48</td>\n",
       "    </tr>\n",
       "    <tr>\n",
       "      <th>3</th>\n",
       "      <td>206</td>\n",
       "      <td>0</td>\n",
       "      <td>55.0</td>\n",
       "      <td>43.0</td>\n",
       "      <td>50.8</td>\n",
       "      <td>19.2</td>\n",
       "      <td>34</td>\n",
       "    </tr>\n",
       "    <tr>\n",
       "      <th>4</th>\n",
       "      <td>205</td>\n",
       "      <td>1</td>\n",
       "      <td>60.0</td>\n",
       "      <td>48.8</td>\n",
       "      <td>64.0</td>\n",
       "      <td>26.6</td>\n",
       "      <td>49</td>\n",
       "    </tr>\n",
       "  </tbody>\n",
       "</table>\n",
       "</div>"
      ],
      "text/plain": [
       "   subject_id  task_round   sus  effect  easy  easy_learn  satisfaction\n",
       "0         202           1  77.5    52.6  64.6        26.6            45\n",
       "1         202           0  85.0    51.6  61.4        24.8            44\n",
       "2         206           1  57.5    49.6  58.8        24.0            48\n",
       "3         206           0  55.0    43.0  50.8        19.2            34\n",
       "4         205           1  60.0    48.8  64.0        26.6            49"
      ]
     },
     "execution_count": 23,
     "metadata": {},
     "output_type": "execute_result"
    }
   ],
   "source": [
    "scale.head()"
   ]
  },
  {
   "cell_type": "code",
   "execution_count": 24,
   "metadata": {},
   "outputs": [
    {
     "name": "stdout",
     "output_type": "stream",
     "text": [
      "SUS 评分 ANOVA 结果为 F=20.159255429162357，p=5.9177526720979305e-05\n",
      "USE 易用性评分 ANOVA 结果为 F=52.1879040808731，p=9.159259928714244e-09\n"
     ]
    }
   ],
   "source": [
    "sus_F, sus_p = stats.f_oneway(scale[\"sus\"][scale[\"task_round\"]==0],scale[\"sus\"][scale[\"task_round\"]==1] )\n",
    "print(f\"SUS 评分 ANOVA 结果为 F={sus_F}，p={sus_p}\")\n",
    "easy_F, easy_p = stats.f_oneway(scale[\"easy\"][scale[\"task_round\"]==0],scale[\"easy\"][scale[\"task_round\"]==1] )\n",
    "print(f\"USE 易用性评分 ANOVA 结果为 F={easy_F}，p={easy_p}\")\n",
    "\n"
   ]
  },
  {
   "cell_type": "code",
   "execution_count": 29,
   "metadata": {},
   "outputs": [
    {
     "name": "stdout",
     "output_type": "stream",
     "text": [
      "易用性评分 t 检验结果为 t=-7.224119605936288，p=8.573333285404681e-08\n",
      "易用性的 Kruskal-Wallis 检验结果为 H=24.26682539682541，p=8.387121825389755e-07\n"
     ]
    }
   ],
   "source": [
    "easy_t, easy_p_0 = stats.ttest_ind(scale[\"easy\"][scale[\"task_round\"]==0],scale[\"easy\"][scale[\"task_round\"]==1], equal_var=False)\n",
    "print(f\"易用性评分 t 检验结果为 t={easy_t}，p={easy_p_0}\")\n",
    "easy_H, easy_p_1 = stats.kruskal(scale[\"easy\"][scale[\"task_round\"]==0],scale[\"easy\"][scale[\"task_round\"]==1])\n",
    "print(f\"易用性的 Kruskal-Wallis 检验结果为 H={easy_H}，p={easy_p_1}\")"
   ]
  },
  {
   "attachments": {},
   "cell_type": "markdown",
   "metadata": {},
   "source": [
    "### 有效性、易学性和满意度（Wt 和 KW）"
   ]
  },
  {
   "cell_type": "code",
   "execution_count": 25,
   "metadata": {},
   "outputs": [
    {
     "name": "stdout",
     "output_type": "stream",
     "text": [
      "USE 有效性评分 t 检验结果为 t=-6.6865312875986245，p=2.7172026660385573e-07\n",
      "USE 有效性的 Kruskal-Wallis 检验结果为 H=24.861110144423165，p=6.161291972043212e-07\n"
     ]
    }
   ],
   "source": [
    "effect_t, effect_p_0 = stats.ttest_ind(scale[\"effect\"][scale[\"task_round\"]==0],scale[\"effect\"][scale[\"task_round\"]==1], equal_var=False)\n",
    "print(f\"USE 有效性评分 t 检验结果为 t={effect_t}，p={effect_p_0}\")\n",
    "effect_H, effect_p_1 = stats.kruskal(scale[\"effect\"][scale[\"task_round\"]==0],scale[\"effect\"][scale[\"task_round\"]==1])\n",
    "print(f\"USE 有效性的 Kruskal-Wallis 检验结果为 H={effect_H}，p={effect_p_1}\")"
   ]
  },
  {
   "cell_type": "code",
   "execution_count": 26,
   "metadata": {},
   "outputs": [
    {
     "name": "stdout",
     "output_type": "stream",
     "text": [
      "USE 易学性评分 t 检验结果为 t=-23.479174833419833，p=4.030525478082046e-24\n",
      "USE 易学性的 Kruskal-Wallis 检验结果为 H=30.83991228070175，p=2.8021495500642376e-08\n"
     ]
    }
   ],
   "source": [
    "easy_learn_t, easy_learn_p_0 = stats.ttest_ind(scale[\"easy_learn\"][scale[\"task_round\"]==0],scale[\"effect\"][scale[\"task_round\"]==1], equal_var=False)\n",
    "print(f\"USE 易学性评分 t 检验结果为 t={easy_learn_t}，p={easy_learn_p_0}\")\n",
    "easy_learn_H, easy_learn_p_1 = stats.kruskal(scale[\"easy_learn\"][scale[\"task_round\"]==0],scale[\"effect\"][scale[\"task_round\"]==1])\n",
    "print(f\"USE 易学性的 Kruskal-Wallis 检验结果为 H={easy_learn_H}，p={easy_learn_p_1}\")"
   ]
  },
  {
   "cell_type": "code",
   "execution_count": 27,
   "metadata": {},
   "outputs": [
    {
     "name": "stdout",
     "output_type": "stream",
     "text": [
      "USE 满意度评分 t 检验结果为 t=-8.908698654372229，p=1.432928124949066e-09\n",
      "USE 满意度的 Kruskal-Wallis 检验结果为 H=30.312539682539693，p=3.677407950660983e-08\n"
     ]
    }
   ],
   "source": [
    "satisfaction_t, satisfaction_p_0 = stats.ttest_ind(scale[\"satisfaction\"][scale[\"task_round\"]==0],scale[\"effect\"][scale[\"task_round\"]==1], equal_var=False)\n",
    "print(f\"USE 满意度评分 t 检验结果为 t={satisfaction_t}，p={satisfaction_p_0}\")\n",
    "satisfaction_H, satisfaction_p_1 = stats.kruskal(scale[\"satisfaction\"][scale[\"task_round\"]==0],scale[\"effect\"][scale[\"task_round\"]==1])\n",
    "print(f\"USE 满意度的 Kruskal-Wallis 检验结果为 H={satisfaction_H}，p={satisfaction_p_1}\")"
   ]
  },
  {
   "attachments": {},
   "cell_type": "markdown",
   "metadata": {},
   "source": [
    "#### 汇总结果"
   ]
  },
  {
   "cell_type": "code",
   "execution_count": 28,
   "metadata": {},
   "outputs": [
    {
     "data": {
      "text/html": [
       "<div>\n",
       "<style scoped>\n",
       "    .dataframe tbody tr th:only-of-type {\n",
       "        vertical-align: middle;\n",
       "    }\n",
       "\n",
       "    .dataframe tbody tr th {\n",
       "        vertical-align: top;\n",
       "    }\n",
       "\n",
       "    .dataframe thead th {\n",
       "        text-align: right;\n",
       "    }\n",
       "</style>\n",
       "<table border=\"1\" class=\"dataframe\">\n",
       "  <thead>\n",
       "    <tr style=\"text-align: right;\">\n",
       "      <th></th>\n",
       "      <th>样本数据</th>\n",
       "      <th>检验方法</th>\n",
       "      <th>统计量</th>\n",
       "      <th>值</th>\n",
       "      <th>p</th>\n",
       "      <th>通过（p&lt;0.05）</th>\n",
       "    </tr>\n",
       "  </thead>\n",
       "  <tbody>\n",
       "    <tr>\n",
       "      <th>0</th>\n",
       "      <td>SUS 评分</td>\n",
       "      <td>ANOVA</td>\n",
       "      <td>F</td>\n",
       "      <td>20.159</td>\n",
       "      <td>5.918e-05</td>\n",
       "      <td>通过</td>\n",
       "    </tr>\n",
       "    <tr>\n",
       "      <th>1</th>\n",
       "      <td>USE 易用性评分</td>\n",
       "      <td>ANOVA</td>\n",
       "      <td>F</td>\n",
       "      <td>52.188</td>\n",
       "      <td>9.159e-09</td>\n",
       "      <td>通过</td>\n",
       "    </tr>\n",
       "    <tr>\n",
       "      <th>2</th>\n",
       "      <td>USE 有效性评分</td>\n",
       "      <td>Welch's t</td>\n",
       "      <td>t</td>\n",
       "      <td>-6.687</td>\n",
       "      <td>2.717e-07</td>\n",
       "      <td>通过</td>\n",
       "    </tr>\n",
       "    <tr>\n",
       "      <th>3</th>\n",
       "      <td>USE 有效性评分</td>\n",
       "      <td>Kruskal-Wallis</td>\n",
       "      <td>H</td>\n",
       "      <td>24.861</td>\n",
       "      <td>6.161e-07</td>\n",
       "      <td>通过</td>\n",
       "    </tr>\n",
       "    <tr>\n",
       "      <th>4</th>\n",
       "      <td>USE 易学性评分</td>\n",
       "      <td>Welch's t</td>\n",
       "      <td>t</td>\n",
       "      <td>-23.479</td>\n",
       "      <td>4.031e-24</td>\n",
       "      <td>通过</td>\n",
       "    </tr>\n",
       "    <tr>\n",
       "      <th>5</th>\n",
       "      <td>USE 易学性评分</td>\n",
       "      <td>Kruskal-Wallis</td>\n",
       "      <td>H</td>\n",
       "      <td>30.840</td>\n",
       "      <td>2.802e-08</td>\n",
       "      <td>通过</td>\n",
       "    </tr>\n",
       "    <tr>\n",
       "      <th>6</th>\n",
       "      <td>USE 满意度评分</td>\n",
       "      <td>Welch's t</td>\n",
       "      <td>t</td>\n",
       "      <td>-8.909</td>\n",
       "      <td>1.433e-09</td>\n",
       "      <td>通过</td>\n",
       "    </tr>\n",
       "    <tr>\n",
       "      <th>7</th>\n",
       "      <td>USE 满意度评分</td>\n",
       "      <td>Kruskal-Wallis</td>\n",
       "      <td>H</td>\n",
       "      <td>30.313</td>\n",
       "      <td>3.677e-08</td>\n",
       "      <td>通过</td>\n",
       "    </tr>\n",
       "  </tbody>\n",
       "</table>\n",
       "</div>"
      ],
      "text/plain": [
       "        样本数据            检验方法 统计量        值          p 通过（p<0.05）\n",
       "0     SUS 评分           ANOVA   F   20.159  5.918e-05         通过\n",
       "1  USE 易用性评分           ANOVA   F   52.188  9.159e-09         通过\n",
       "2  USE 有效性评分       Welch's t   t   -6.687  2.717e-07         通过\n",
       "3  USE 有效性评分  Kruskal-Wallis   H   24.861  6.161e-07         通过\n",
       "4  USE 易学性评分       Welch's t   t  -23.479  4.031e-24         通过\n",
       "5  USE 易学性评分  Kruskal-Wallis   H   30.840  2.802e-08         通过\n",
       "6  USE 满意度评分       Welch's t   t   -8.909  1.433e-09         通过\n",
       "7  USE 满意度评分  Kruskal-Wallis   H   30.313  3.677e-08         通过"
      ]
     },
     "execution_count": 28,
     "metadata": {},
     "output_type": "execute_result"
    }
   ],
   "source": [
    "res = pd.DataFrame(columns=['样本数据', '检验方法', '统计量','值', 'p'])\n",
    "res.loc[0] = [\"SUS 评分\", \"ANOVA\",\"F\", sus_F, sus_p]\n",
    "res.loc[1] = [\"USE 易用性评分\", \"ANOVA\",\"F\", easy_F, easy_p]\n",
    "res.loc[2] = [\"USE 有效性评分\", \"Welch's t\",\"t\", effect_t, effect_p_0]\n",
    "res.loc[3] = [\"USE 有效性评分\", \"Kruskal-Wallis\",\"H\", effect_H, effect_p_1]\n",
    "res.loc[4] = [\"USE 易学性评分\", \"Welch's t\",\"t\", easy_learn_t, easy_learn_p_0]\n",
    "res.loc[5] = [\"USE 易学性评分\", \"Kruskal-Wallis\",\"H\", easy_learn_H, easy_learn_p_1]\n",
    "res.loc[6] = [\"USE 满意度评分\", \"Welch's t\", \"t\", satisfaction_t, satisfaction_p_0]\n",
    "res.loc[7] = [\"USE 满意度评分\", \"Kruskal-Wallis\", \"H\", satisfaction_H, satisfaction_p_1]\n",
    "res = res.assign(pas=\"通过\")\n",
    "res[\"p\"] = res[\"p\"].apply('{:.3e}'.format)\n",
    "res[\"值\"] = res[\"值\"].apply('{:.3f}'.format)\n",
    "res = res.rename({\"pas\": \"通过（p<0.05）\"}, axis=1)\n",
    "res.to_csv(\"scale_result.csv\", index=False, float_format='%.3f')\n",
    "res"
   ]
  },
  {
   "cell_type": "code",
   "execution_count": null,
   "metadata": {},
   "outputs": [],
   "source": []
  }
 ],
 "metadata": {
  "kernelspec": {
   "display_name": "ml",
   "language": "python",
   "name": "python3"
  },
  "language_info": {
   "codemirror_mode": {
    "name": "ipython",
    "version": 3
   },
   "file_extension": ".py",
   "mimetype": "text/x-python",
   "name": "python",
   "nbconvert_exporter": "python",
   "pygments_lexer": "ipython3",
   "version": "3.9.13"
  },
  "orig_nbformat": 4
 },
 "nbformat": 4,
 "nbformat_minor": 2
}
